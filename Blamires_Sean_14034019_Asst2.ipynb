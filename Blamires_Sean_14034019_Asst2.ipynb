{
 "cells": [
  {
   "cell_type": "markdown",
   "id": "4543e62e",
   "metadata": {},
   "source": [
    "Import numpy and pandas and upload the data into a pandas dataframe"
   ]
  },
  {
   "cell_type": "code",
   "execution_count": 1,
   "id": "dc5e16de",
   "metadata": {},
   "outputs": [],
   "source": [
    "import numpy as np\n",
    "import pandas as pd"
   ]
  },
  {
   "cell_type": "code",
   "execution_count": 2,
   "id": "80d291f8",
   "metadata": {},
   "outputs": [],
   "source": [
    "path = \"C:\\\\Users\\\\z3066824\\\\OneDrive - UNSW\\Documents\\\\\""
   ]
  },
  {
   "cell_type": "code",
   "execution_count": 3,
   "id": "5b4ede4f",
   "metadata": {},
   "outputs": [],
   "source": [
    "file = \"beer_reviews.csv\""
   ]
  },
  {
   "cell_type": "code",
   "execution_count": 4,
   "id": "075d30d6",
   "metadata": {},
   "outputs": [],
   "source": [
    "df = pd.read_csv(path+file)"
   ]
  },
  {
   "cell_type": "markdown",
   "id": "5fe571bd",
   "metadata": {},
   "source": [
    "View and clean the dataframe as needed"
   ]
  },
  {
   "cell_type": "code",
   "execution_count": 5,
   "id": "416f4844",
   "metadata": {},
   "outputs": [
    {
     "data": {
      "text/html": [
       "<div>\n",
       "<style scoped>\n",
       "    .dataframe tbody tr th:only-of-type {\n",
       "        vertical-align: middle;\n",
       "    }\n",
       "\n",
       "    .dataframe tbody tr th {\n",
       "        vertical-align: top;\n",
       "    }\n",
       "\n",
       "    .dataframe thead th {\n",
       "        text-align: right;\n",
       "    }\n",
       "</style>\n",
       "<table border=\"1\" class=\"dataframe\">\n",
       "  <thead>\n",
       "    <tr style=\"text-align: right;\">\n",
       "      <th></th>\n",
       "      <th>brewery_id</th>\n",
       "      <th>brewery_name</th>\n",
       "      <th>review_time</th>\n",
       "      <th>review_overall</th>\n",
       "      <th>review_aroma</th>\n",
       "      <th>review_appearance</th>\n",
       "      <th>review_profilename</th>\n",
       "      <th>beer_style</th>\n",
       "      <th>review_palate</th>\n",
       "      <th>review_taste</th>\n",
       "      <th>beer_name</th>\n",
       "      <th>beer_abv</th>\n",
       "      <th>beer_beerid</th>\n",
       "    </tr>\n",
       "  </thead>\n",
       "  <tbody>\n",
       "    <tr>\n",
       "      <th>0</th>\n",
       "      <td>10325</td>\n",
       "      <td>Vecchio Birraio</td>\n",
       "      <td>1234817823</td>\n",
       "      <td>1.5</td>\n",
       "      <td>2.0</td>\n",
       "      <td>2.5</td>\n",
       "      <td>stcules</td>\n",
       "      <td>Hefeweizen</td>\n",
       "      <td>1.5</td>\n",
       "      <td>1.5</td>\n",
       "      <td>Sausa Weizen</td>\n",
       "      <td>5.0</td>\n",
       "      <td>47986</td>\n",
       "    </tr>\n",
       "    <tr>\n",
       "      <th>1</th>\n",
       "      <td>10325</td>\n",
       "      <td>Vecchio Birraio</td>\n",
       "      <td>1235915097</td>\n",
       "      <td>3.0</td>\n",
       "      <td>2.5</td>\n",
       "      <td>3.0</td>\n",
       "      <td>stcules</td>\n",
       "      <td>English Strong Ale</td>\n",
       "      <td>3.0</td>\n",
       "      <td>3.0</td>\n",
       "      <td>Red Moon</td>\n",
       "      <td>6.2</td>\n",
       "      <td>48213</td>\n",
       "    </tr>\n",
       "    <tr>\n",
       "      <th>2</th>\n",
       "      <td>10325</td>\n",
       "      <td>Vecchio Birraio</td>\n",
       "      <td>1235916604</td>\n",
       "      <td>3.0</td>\n",
       "      <td>2.5</td>\n",
       "      <td>3.0</td>\n",
       "      <td>stcules</td>\n",
       "      <td>Foreign / Export Stout</td>\n",
       "      <td>3.0</td>\n",
       "      <td>3.0</td>\n",
       "      <td>Black Horse Black Beer</td>\n",
       "      <td>6.5</td>\n",
       "      <td>48215</td>\n",
       "    </tr>\n",
       "    <tr>\n",
       "      <th>3</th>\n",
       "      <td>10325</td>\n",
       "      <td>Vecchio Birraio</td>\n",
       "      <td>1234725145</td>\n",
       "      <td>3.0</td>\n",
       "      <td>3.0</td>\n",
       "      <td>3.5</td>\n",
       "      <td>stcules</td>\n",
       "      <td>German Pilsener</td>\n",
       "      <td>2.5</td>\n",
       "      <td>3.0</td>\n",
       "      <td>Sausa Pils</td>\n",
       "      <td>5.0</td>\n",
       "      <td>47969</td>\n",
       "    </tr>\n",
       "    <tr>\n",
       "      <th>4</th>\n",
       "      <td>1075</td>\n",
       "      <td>Caldera Brewing Company</td>\n",
       "      <td>1293735206</td>\n",
       "      <td>4.0</td>\n",
       "      <td>4.5</td>\n",
       "      <td>4.0</td>\n",
       "      <td>johnmichaelsen</td>\n",
       "      <td>American Double / Imperial IPA</td>\n",
       "      <td>4.0</td>\n",
       "      <td>4.5</td>\n",
       "      <td>Cauldron DIPA</td>\n",
       "      <td>7.7</td>\n",
       "      <td>64883</td>\n",
       "    </tr>\n",
       "    <tr>\n",
       "      <th>...</th>\n",
       "      <td>...</td>\n",
       "      <td>...</td>\n",
       "      <td>...</td>\n",
       "      <td>...</td>\n",
       "      <td>...</td>\n",
       "      <td>...</td>\n",
       "      <td>...</td>\n",
       "      <td>...</td>\n",
       "      <td>...</td>\n",
       "      <td>...</td>\n",
       "      <td>...</td>\n",
       "      <td>...</td>\n",
       "      <td>...</td>\n",
       "    </tr>\n",
       "    <tr>\n",
       "      <th>1586609</th>\n",
       "      <td>14359</td>\n",
       "      <td>The Defiant Brewing Company</td>\n",
       "      <td>1162684892</td>\n",
       "      <td>5.0</td>\n",
       "      <td>4.0</td>\n",
       "      <td>3.5</td>\n",
       "      <td>maddogruss</td>\n",
       "      <td>Pumpkin Ale</td>\n",
       "      <td>4.0</td>\n",
       "      <td>4.0</td>\n",
       "      <td>The Horseman's Ale</td>\n",
       "      <td>5.2</td>\n",
       "      <td>33061</td>\n",
       "    </tr>\n",
       "    <tr>\n",
       "      <th>1586610</th>\n",
       "      <td>14359</td>\n",
       "      <td>The Defiant Brewing Company</td>\n",
       "      <td>1161048566</td>\n",
       "      <td>4.0</td>\n",
       "      <td>5.0</td>\n",
       "      <td>2.5</td>\n",
       "      <td>yelterdow</td>\n",
       "      <td>Pumpkin Ale</td>\n",
       "      <td>2.0</td>\n",
       "      <td>4.0</td>\n",
       "      <td>The Horseman's Ale</td>\n",
       "      <td>5.2</td>\n",
       "      <td>33061</td>\n",
       "    </tr>\n",
       "    <tr>\n",
       "      <th>1586611</th>\n",
       "      <td>14359</td>\n",
       "      <td>The Defiant Brewing Company</td>\n",
       "      <td>1160702513</td>\n",
       "      <td>4.5</td>\n",
       "      <td>3.5</td>\n",
       "      <td>3.0</td>\n",
       "      <td>TongoRad</td>\n",
       "      <td>Pumpkin Ale</td>\n",
       "      <td>3.5</td>\n",
       "      <td>4.0</td>\n",
       "      <td>The Horseman's Ale</td>\n",
       "      <td>5.2</td>\n",
       "      <td>33061</td>\n",
       "    </tr>\n",
       "    <tr>\n",
       "      <th>1586612</th>\n",
       "      <td>14359</td>\n",
       "      <td>The Defiant Brewing Company</td>\n",
       "      <td>1160023044</td>\n",
       "      <td>4.0</td>\n",
       "      <td>4.5</td>\n",
       "      <td>4.5</td>\n",
       "      <td>dherling</td>\n",
       "      <td>Pumpkin Ale</td>\n",
       "      <td>4.5</td>\n",
       "      <td>4.5</td>\n",
       "      <td>The Horseman's Ale</td>\n",
       "      <td>5.2</td>\n",
       "      <td>33061</td>\n",
       "    </tr>\n",
       "    <tr>\n",
       "      <th>1586613</th>\n",
       "      <td>14359</td>\n",
       "      <td>The Defiant Brewing Company</td>\n",
       "      <td>1160005319</td>\n",
       "      <td>5.0</td>\n",
       "      <td>4.5</td>\n",
       "      <td>4.5</td>\n",
       "      <td>cbl2</td>\n",
       "      <td>Pumpkin Ale</td>\n",
       "      <td>4.5</td>\n",
       "      <td>4.5</td>\n",
       "      <td>The Horseman's Ale</td>\n",
       "      <td>5.2</td>\n",
       "      <td>33061</td>\n",
       "    </tr>\n",
       "  </tbody>\n",
       "</table>\n",
       "<p>1586614 rows × 13 columns</p>\n",
       "</div>"
      ],
      "text/plain": [
       "         brewery_id                 brewery_name  review_time  review_overall  \\\n",
       "0             10325              Vecchio Birraio   1234817823             1.5   \n",
       "1             10325              Vecchio Birraio   1235915097             3.0   \n",
       "2             10325              Vecchio Birraio   1235916604             3.0   \n",
       "3             10325              Vecchio Birraio   1234725145             3.0   \n",
       "4              1075      Caldera Brewing Company   1293735206             4.0   \n",
       "...             ...                          ...          ...             ...   \n",
       "1586609       14359  The Defiant Brewing Company   1162684892             5.0   \n",
       "1586610       14359  The Defiant Brewing Company   1161048566             4.0   \n",
       "1586611       14359  The Defiant Brewing Company   1160702513             4.5   \n",
       "1586612       14359  The Defiant Brewing Company   1160023044             4.0   \n",
       "1586613       14359  The Defiant Brewing Company   1160005319             5.0   \n",
       "\n",
       "         review_aroma  review_appearance review_profilename  \\\n",
       "0                 2.0                2.5            stcules   \n",
       "1                 2.5                3.0            stcules   \n",
       "2                 2.5                3.0            stcules   \n",
       "3                 3.0                3.5            stcules   \n",
       "4                 4.5                4.0     johnmichaelsen   \n",
       "...               ...                ...                ...   \n",
       "1586609           4.0                3.5         maddogruss   \n",
       "1586610           5.0                2.5          yelterdow   \n",
       "1586611           3.5                3.0           TongoRad   \n",
       "1586612           4.5                4.5           dherling   \n",
       "1586613           4.5                4.5               cbl2   \n",
       "\n",
       "                             beer_style  review_palate  review_taste  \\\n",
       "0                            Hefeweizen            1.5           1.5   \n",
       "1                    English Strong Ale            3.0           3.0   \n",
       "2                Foreign / Export Stout            3.0           3.0   \n",
       "3                       German Pilsener            2.5           3.0   \n",
       "4        American Double / Imperial IPA            4.0           4.5   \n",
       "...                                 ...            ...           ...   \n",
       "1586609                     Pumpkin Ale            4.0           4.0   \n",
       "1586610                     Pumpkin Ale            2.0           4.0   \n",
       "1586611                     Pumpkin Ale            3.5           4.0   \n",
       "1586612                     Pumpkin Ale            4.5           4.5   \n",
       "1586613                     Pumpkin Ale            4.5           4.5   \n",
       "\n",
       "                      beer_name  beer_abv  beer_beerid  \n",
       "0                  Sausa Weizen       5.0        47986  \n",
       "1                      Red Moon       6.2        48213  \n",
       "2        Black Horse Black Beer       6.5        48215  \n",
       "3                    Sausa Pils       5.0        47969  \n",
       "4                 Cauldron DIPA       7.7        64883  \n",
       "...                         ...       ...          ...  \n",
       "1586609      The Horseman's Ale       5.2        33061  \n",
       "1586610      The Horseman's Ale       5.2        33061  \n",
       "1586611      The Horseman's Ale       5.2        33061  \n",
       "1586612      The Horseman's Ale       5.2        33061  \n",
       "1586613      The Horseman's Ale       5.2        33061  \n",
       "\n",
       "[1586614 rows x 13 columns]"
      ]
     },
     "execution_count": 5,
     "metadata": {},
     "output_type": "execute_result"
    }
   ],
   "source": [
    "df"
   ]
  },
  {
   "cell_type": "code",
   "execution_count": 6,
   "id": "a24a6ac5",
   "metadata": {},
   "outputs": [
    {
     "data": {
      "text/plain": [
       "(1586614, 13)"
      ]
     },
     "execution_count": 6,
     "metadata": {},
     "output_type": "execute_result"
    }
   ],
   "source": [
    "df.shape"
   ]
  },
  {
   "cell_type": "code",
   "execution_count": 7,
   "id": "7e1bd519",
   "metadata": {},
   "outputs": [
    {
     "name": "stdout",
     "output_type": "stream",
     "text": [
      "<class 'pandas.core.frame.DataFrame'>\n",
      "RangeIndex: 1586614 entries, 0 to 1586613\n",
      "Data columns (total 13 columns):\n",
      " #   Column              Non-Null Count    Dtype  \n",
      "---  ------              --------------    -----  \n",
      " 0   brewery_id          1586614 non-null  int64  \n",
      " 1   brewery_name        1586599 non-null  object \n",
      " 2   review_time         1586614 non-null  int64  \n",
      " 3   review_overall      1586614 non-null  float64\n",
      " 4   review_aroma        1586614 non-null  float64\n",
      " 5   review_appearance   1586614 non-null  float64\n",
      " 6   review_profilename  1586266 non-null  object \n",
      " 7   beer_style          1586614 non-null  object \n",
      " 8   review_palate       1586614 non-null  float64\n",
      " 9   review_taste        1586614 non-null  float64\n",
      " 10  beer_name           1586614 non-null  object \n",
      " 11  beer_abv            1518829 non-null  float64\n",
      " 12  beer_beerid         1586614 non-null  int64  \n",
      "dtypes: float64(6), int64(3), object(4)\n",
      "memory usage: 157.4+ MB\n"
     ]
    }
   ],
   "source": [
    "df.info()"
   ]
  },
  {
   "cell_type": "code",
   "execution_count": 8,
   "id": "f070a0f7",
   "metadata": {},
   "outputs": [
    {
     "data": {
      "text/html": [
       "<div>\n",
       "<style scoped>\n",
       "    .dataframe tbody tr th:only-of-type {\n",
       "        vertical-align: middle;\n",
       "    }\n",
       "\n",
       "    .dataframe tbody tr th {\n",
       "        vertical-align: top;\n",
       "    }\n",
       "\n",
       "    .dataframe thead th {\n",
       "        text-align: right;\n",
       "    }\n",
       "</style>\n",
       "<table border=\"1\" class=\"dataframe\">\n",
       "  <thead>\n",
       "    <tr style=\"text-align: right;\">\n",
       "      <th></th>\n",
       "      <th>brewery_id</th>\n",
       "      <th>review_time</th>\n",
       "      <th>review_overall</th>\n",
       "      <th>review_aroma</th>\n",
       "      <th>review_appearance</th>\n",
       "      <th>review_palate</th>\n",
       "      <th>review_taste</th>\n",
       "      <th>beer_abv</th>\n",
       "      <th>beer_beerid</th>\n",
       "    </tr>\n",
       "  </thead>\n",
       "  <tbody>\n",
       "    <tr>\n",
       "      <th>count</th>\n",
       "      <td>1.586614e+06</td>\n",
       "      <td>1.586614e+06</td>\n",
       "      <td>1.586614e+06</td>\n",
       "      <td>1.586614e+06</td>\n",
       "      <td>1.586614e+06</td>\n",
       "      <td>1.586614e+06</td>\n",
       "      <td>1.586614e+06</td>\n",
       "      <td>1.518829e+06</td>\n",
       "      <td>1.586614e+06</td>\n",
       "    </tr>\n",
       "    <tr>\n",
       "      <th>mean</th>\n",
       "      <td>3.130099e+03</td>\n",
       "      <td>1.224089e+09</td>\n",
       "      <td>3.815581e+00</td>\n",
       "      <td>3.735636e+00</td>\n",
       "      <td>3.841642e+00</td>\n",
       "      <td>3.743701e+00</td>\n",
       "      <td>3.792860e+00</td>\n",
       "      <td>7.042387e+00</td>\n",
       "      <td>2.171279e+04</td>\n",
       "    </tr>\n",
       "    <tr>\n",
       "      <th>std</th>\n",
       "      <td>5.578104e+03</td>\n",
       "      <td>7.654427e+07</td>\n",
       "      <td>7.206219e-01</td>\n",
       "      <td>6.976167e-01</td>\n",
       "      <td>6.160928e-01</td>\n",
       "      <td>6.822184e-01</td>\n",
       "      <td>7.319696e-01</td>\n",
       "      <td>2.322526e+00</td>\n",
       "      <td>2.181834e+04</td>\n",
       "    </tr>\n",
       "    <tr>\n",
       "      <th>min</th>\n",
       "      <td>1.000000e+00</td>\n",
       "      <td>8.406720e+08</td>\n",
       "      <td>0.000000e+00</td>\n",
       "      <td>1.000000e+00</td>\n",
       "      <td>0.000000e+00</td>\n",
       "      <td>1.000000e+00</td>\n",
       "      <td>1.000000e+00</td>\n",
       "      <td>1.000000e-02</td>\n",
       "      <td>3.000000e+00</td>\n",
       "    </tr>\n",
       "    <tr>\n",
       "      <th>25%</th>\n",
       "      <td>1.430000e+02</td>\n",
       "      <td>1.173224e+09</td>\n",
       "      <td>3.500000e+00</td>\n",
       "      <td>3.500000e+00</td>\n",
       "      <td>3.500000e+00</td>\n",
       "      <td>3.500000e+00</td>\n",
       "      <td>3.500000e+00</td>\n",
       "      <td>5.200000e+00</td>\n",
       "      <td>1.717000e+03</td>\n",
       "    </tr>\n",
       "    <tr>\n",
       "      <th>50%</th>\n",
       "      <td>4.290000e+02</td>\n",
       "      <td>1.239203e+09</td>\n",
       "      <td>4.000000e+00</td>\n",
       "      <td>4.000000e+00</td>\n",
       "      <td>4.000000e+00</td>\n",
       "      <td>4.000000e+00</td>\n",
       "      <td>4.000000e+00</td>\n",
       "      <td>6.500000e+00</td>\n",
       "      <td>1.390600e+04</td>\n",
       "    </tr>\n",
       "    <tr>\n",
       "      <th>75%</th>\n",
       "      <td>2.372000e+03</td>\n",
       "      <td>1.288568e+09</td>\n",
       "      <td>4.500000e+00</td>\n",
       "      <td>4.000000e+00</td>\n",
       "      <td>4.000000e+00</td>\n",
       "      <td>4.000000e+00</td>\n",
       "      <td>4.500000e+00</td>\n",
       "      <td>8.500000e+00</td>\n",
       "      <td>3.944100e+04</td>\n",
       "    </tr>\n",
       "    <tr>\n",
       "      <th>max</th>\n",
       "      <td>2.800300e+04</td>\n",
       "      <td>1.326285e+09</td>\n",
       "      <td>5.000000e+00</td>\n",
       "      <td>5.000000e+00</td>\n",
       "      <td>5.000000e+00</td>\n",
       "      <td>5.000000e+00</td>\n",
       "      <td>5.000000e+00</td>\n",
       "      <td>5.770000e+01</td>\n",
       "      <td>7.731700e+04</td>\n",
       "    </tr>\n",
       "  </tbody>\n",
       "</table>\n",
       "</div>"
      ],
      "text/plain": [
       "         brewery_id   review_time  review_overall  review_aroma  \\\n",
       "count  1.586614e+06  1.586614e+06    1.586614e+06  1.586614e+06   \n",
       "mean   3.130099e+03  1.224089e+09    3.815581e+00  3.735636e+00   \n",
       "std    5.578104e+03  7.654427e+07    7.206219e-01  6.976167e-01   \n",
       "min    1.000000e+00  8.406720e+08    0.000000e+00  1.000000e+00   \n",
       "25%    1.430000e+02  1.173224e+09    3.500000e+00  3.500000e+00   \n",
       "50%    4.290000e+02  1.239203e+09    4.000000e+00  4.000000e+00   \n",
       "75%    2.372000e+03  1.288568e+09    4.500000e+00  4.000000e+00   \n",
       "max    2.800300e+04  1.326285e+09    5.000000e+00  5.000000e+00   \n",
       "\n",
       "       review_appearance  review_palate  review_taste      beer_abv  \\\n",
       "count       1.586614e+06   1.586614e+06  1.586614e+06  1.518829e+06   \n",
       "mean        3.841642e+00   3.743701e+00  3.792860e+00  7.042387e+00   \n",
       "std         6.160928e-01   6.822184e-01  7.319696e-01  2.322526e+00   \n",
       "min         0.000000e+00   1.000000e+00  1.000000e+00  1.000000e-02   \n",
       "25%         3.500000e+00   3.500000e+00  3.500000e+00  5.200000e+00   \n",
       "50%         4.000000e+00   4.000000e+00  4.000000e+00  6.500000e+00   \n",
       "75%         4.000000e+00   4.000000e+00  4.500000e+00  8.500000e+00   \n",
       "max         5.000000e+00   5.000000e+00  5.000000e+00  5.770000e+01   \n",
       "\n",
       "        beer_beerid  \n",
       "count  1.586614e+06  \n",
       "mean   2.171279e+04  \n",
       "std    2.181834e+04  \n",
       "min    3.000000e+00  \n",
       "25%    1.717000e+03  \n",
       "50%    1.390600e+04  \n",
       "75%    3.944100e+04  \n",
       "max    7.731700e+04  "
      ]
     },
     "execution_count": 8,
     "metadata": {},
     "output_type": "execute_result"
    }
   ],
   "source": [
    "df.describe()"
   ]
  },
  {
   "cell_type": "code",
   "execution_count": 9,
   "id": "f52e080b",
   "metadata": {},
   "outputs": [],
   "source": [
    "df_cleaned = df.copy()"
   ]
  },
  {
   "cell_type": "code",
   "execution_count": 10,
   "id": "0a238b66",
   "metadata": {},
   "outputs": [],
   "source": [
    "df_cleaned.drop('brewery_id', axis=1, inplace=True)"
   ]
  },
  {
   "cell_type": "code",
   "execution_count": 11,
   "id": "abd151d1",
   "metadata": {},
   "outputs": [],
   "source": [
    "df_cleaned.dropna(inplace=True)"
   ]
  },
  {
   "cell_type": "code",
   "execution_count": 12,
   "id": "8d8442ce",
   "metadata": {},
   "outputs": [],
   "source": [
    "df_cleaned.reset_index(drop=True, inplace=True)"
   ]
  },
  {
   "cell_type": "code",
   "execution_count": 13,
   "id": "c4be9c21",
   "metadata": {},
   "outputs": [
    {
     "data": {
      "text/html": [
       "<div>\n",
       "<style scoped>\n",
       "    .dataframe tbody tr th:only-of-type {\n",
       "        vertical-align: middle;\n",
       "    }\n",
       "\n",
       "    .dataframe tbody tr th {\n",
       "        vertical-align: top;\n",
       "    }\n",
       "\n",
       "    .dataframe thead th {\n",
       "        text-align: right;\n",
       "    }\n",
       "</style>\n",
       "<table border=\"1\" class=\"dataframe\">\n",
       "  <thead>\n",
       "    <tr style=\"text-align: right;\">\n",
       "      <th></th>\n",
       "      <th>brewery_name</th>\n",
       "      <th>review_time</th>\n",
       "      <th>review_overall</th>\n",
       "      <th>review_aroma</th>\n",
       "      <th>review_appearance</th>\n",
       "      <th>review_profilename</th>\n",
       "      <th>beer_style</th>\n",
       "      <th>review_palate</th>\n",
       "      <th>review_taste</th>\n",
       "      <th>beer_name</th>\n",
       "      <th>beer_abv</th>\n",
       "      <th>beer_beerid</th>\n",
       "    </tr>\n",
       "  </thead>\n",
       "  <tbody>\n",
       "    <tr>\n",
       "      <th>0</th>\n",
       "      <td>Vecchio Birraio</td>\n",
       "      <td>1234817823</td>\n",
       "      <td>1.5</td>\n",
       "      <td>2.0</td>\n",
       "      <td>2.5</td>\n",
       "      <td>stcules</td>\n",
       "      <td>Hefeweizen</td>\n",
       "      <td>1.5</td>\n",
       "      <td>1.5</td>\n",
       "      <td>Sausa Weizen</td>\n",
       "      <td>5.0</td>\n",
       "      <td>47986</td>\n",
       "    </tr>\n",
       "    <tr>\n",
       "      <th>1</th>\n",
       "      <td>Vecchio Birraio</td>\n",
       "      <td>1235915097</td>\n",
       "      <td>3.0</td>\n",
       "      <td>2.5</td>\n",
       "      <td>3.0</td>\n",
       "      <td>stcules</td>\n",
       "      <td>English Strong Ale</td>\n",
       "      <td>3.0</td>\n",
       "      <td>3.0</td>\n",
       "      <td>Red Moon</td>\n",
       "      <td>6.2</td>\n",
       "      <td>48213</td>\n",
       "    </tr>\n",
       "    <tr>\n",
       "      <th>2</th>\n",
       "      <td>Vecchio Birraio</td>\n",
       "      <td>1235916604</td>\n",
       "      <td>3.0</td>\n",
       "      <td>2.5</td>\n",
       "      <td>3.0</td>\n",
       "      <td>stcules</td>\n",
       "      <td>Foreign / Export Stout</td>\n",
       "      <td>3.0</td>\n",
       "      <td>3.0</td>\n",
       "      <td>Black Horse Black Beer</td>\n",
       "      <td>6.5</td>\n",
       "      <td>48215</td>\n",
       "    </tr>\n",
       "    <tr>\n",
       "      <th>3</th>\n",
       "      <td>Vecchio Birraio</td>\n",
       "      <td>1234725145</td>\n",
       "      <td>3.0</td>\n",
       "      <td>3.0</td>\n",
       "      <td>3.5</td>\n",
       "      <td>stcules</td>\n",
       "      <td>German Pilsener</td>\n",
       "      <td>2.5</td>\n",
       "      <td>3.0</td>\n",
       "      <td>Sausa Pils</td>\n",
       "      <td>5.0</td>\n",
       "      <td>47969</td>\n",
       "    </tr>\n",
       "    <tr>\n",
       "      <th>4</th>\n",
       "      <td>Caldera Brewing Company</td>\n",
       "      <td>1293735206</td>\n",
       "      <td>4.0</td>\n",
       "      <td>4.5</td>\n",
       "      <td>4.0</td>\n",
       "      <td>johnmichaelsen</td>\n",
       "      <td>American Double / Imperial IPA</td>\n",
       "      <td>4.0</td>\n",
       "      <td>4.5</td>\n",
       "      <td>Cauldron DIPA</td>\n",
       "      <td>7.7</td>\n",
       "      <td>64883</td>\n",
       "    </tr>\n",
       "    <tr>\n",
       "      <th>...</th>\n",
       "      <td>...</td>\n",
       "      <td>...</td>\n",
       "      <td>...</td>\n",
       "      <td>...</td>\n",
       "      <td>...</td>\n",
       "      <td>...</td>\n",
       "      <td>...</td>\n",
       "      <td>...</td>\n",
       "      <td>...</td>\n",
       "      <td>...</td>\n",
       "      <td>...</td>\n",
       "      <td>...</td>\n",
       "    </tr>\n",
       "    <tr>\n",
       "      <th>1518473</th>\n",
       "      <td>The Defiant Brewing Company</td>\n",
       "      <td>1162684892</td>\n",
       "      <td>5.0</td>\n",
       "      <td>4.0</td>\n",
       "      <td>3.5</td>\n",
       "      <td>maddogruss</td>\n",
       "      <td>Pumpkin Ale</td>\n",
       "      <td>4.0</td>\n",
       "      <td>4.0</td>\n",
       "      <td>The Horseman's Ale</td>\n",
       "      <td>5.2</td>\n",
       "      <td>33061</td>\n",
       "    </tr>\n",
       "    <tr>\n",
       "      <th>1518474</th>\n",
       "      <td>The Defiant Brewing Company</td>\n",
       "      <td>1161048566</td>\n",
       "      <td>4.0</td>\n",
       "      <td>5.0</td>\n",
       "      <td>2.5</td>\n",
       "      <td>yelterdow</td>\n",
       "      <td>Pumpkin Ale</td>\n",
       "      <td>2.0</td>\n",
       "      <td>4.0</td>\n",
       "      <td>The Horseman's Ale</td>\n",
       "      <td>5.2</td>\n",
       "      <td>33061</td>\n",
       "    </tr>\n",
       "    <tr>\n",
       "      <th>1518475</th>\n",
       "      <td>The Defiant Brewing Company</td>\n",
       "      <td>1160702513</td>\n",
       "      <td>4.5</td>\n",
       "      <td>3.5</td>\n",
       "      <td>3.0</td>\n",
       "      <td>TongoRad</td>\n",
       "      <td>Pumpkin Ale</td>\n",
       "      <td>3.5</td>\n",
       "      <td>4.0</td>\n",
       "      <td>The Horseman's Ale</td>\n",
       "      <td>5.2</td>\n",
       "      <td>33061</td>\n",
       "    </tr>\n",
       "    <tr>\n",
       "      <th>1518476</th>\n",
       "      <td>The Defiant Brewing Company</td>\n",
       "      <td>1160023044</td>\n",
       "      <td>4.0</td>\n",
       "      <td>4.5</td>\n",
       "      <td>4.5</td>\n",
       "      <td>dherling</td>\n",
       "      <td>Pumpkin Ale</td>\n",
       "      <td>4.5</td>\n",
       "      <td>4.5</td>\n",
       "      <td>The Horseman's Ale</td>\n",
       "      <td>5.2</td>\n",
       "      <td>33061</td>\n",
       "    </tr>\n",
       "    <tr>\n",
       "      <th>1518477</th>\n",
       "      <td>The Defiant Brewing Company</td>\n",
       "      <td>1160005319</td>\n",
       "      <td>5.0</td>\n",
       "      <td>4.5</td>\n",
       "      <td>4.5</td>\n",
       "      <td>cbl2</td>\n",
       "      <td>Pumpkin Ale</td>\n",
       "      <td>4.5</td>\n",
       "      <td>4.5</td>\n",
       "      <td>The Horseman's Ale</td>\n",
       "      <td>5.2</td>\n",
       "      <td>33061</td>\n",
       "    </tr>\n",
       "  </tbody>\n",
       "</table>\n",
       "<p>1518478 rows × 12 columns</p>\n",
       "</div>"
      ],
      "text/plain": [
       "                        brewery_name  review_time  review_overall  \\\n",
       "0                    Vecchio Birraio   1234817823             1.5   \n",
       "1                    Vecchio Birraio   1235915097             3.0   \n",
       "2                    Vecchio Birraio   1235916604             3.0   \n",
       "3                    Vecchio Birraio   1234725145             3.0   \n",
       "4            Caldera Brewing Company   1293735206             4.0   \n",
       "...                              ...          ...             ...   \n",
       "1518473  The Defiant Brewing Company   1162684892             5.0   \n",
       "1518474  The Defiant Brewing Company   1161048566             4.0   \n",
       "1518475  The Defiant Brewing Company   1160702513             4.5   \n",
       "1518476  The Defiant Brewing Company   1160023044             4.0   \n",
       "1518477  The Defiant Brewing Company   1160005319             5.0   \n",
       "\n",
       "         review_aroma  review_appearance review_profilename  \\\n",
       "0                 2.0                2.5            stcules   \n",
       "1                 2.5                3.0            stcules   \n",
       "2                 2.5                3.0            stcules   \n",
       "3                 3.0                3.5            stcules   \n",
       "4                 4.5                4.0     johnmichaelsen   \n",
       "...               ...                ...                ...   \n",
       "1518473           4.0                3.5         maddogruss   \n",
       "1518474           5.0                2.5          yelterdow   \n",
       "1518475           3.5                3.0           TongoRad   \n",
       "1518476           4.5                4.5           dherling   \n",
       "1518477           4.5                4.5               cbl2   \n",
       "\n",
       "                             beer_style  review_palate  review_taste  \\\n",
       "0                            Hefeweizen            1.5           1.5   \n",
       "1                    English Strong Ale            3.0           3.0   \n",
       "2                Foreign / Export Stout            3.0           3.0   \n",
       "3                       German Pilsener            2.5           3.0   \n",
       "4        American Double / Imperial IPA            4.0           4.5   \n",
       "...                                 ...            ...           ...   \n",
       "1518473                     Pumpkin Ale            4.0           4.0   \n",
       "1518474                     Pumpkin Ale            2.0           4.0   \n",
       "1518475                     Pumpkin Ale            3.5           4.0   \n",
       "1518476                     Pumpkin Ale            4.5           4.5   \n",
       "1518477                     Pumpkin Ale            4.5           4.5   \n",
       "\n",
       "                      beer_name  beer_abv  beer_beerid  \n",
       "0                  Sausa Weizen       5.0        47986  \n",
       "1                      Red Moon       6.2        48213  \n",
       "2        Black Horse Black Beer       6.5        48215  \n",
       "3                    Sausa Pils       5.0        47969  \n",
       "4                 Cauldron DIPA       7.7        64883  \n",
       "...                         ...       ...          ...  \n",
       "1518473      The Horseman's Ale       5.2        33061  \n",
       "1518474      The Horseman's Ale       5.2        33061  \n",
       "1518475      The Horseman's Ale       5.2        33061  \n",
       "1518476      The Horseman's Ale       5.2        33061  \n",
       "1518477      The Horseman's Ale       5.2        33061  \n",
       "\n",
       "[1518478 rows x 12 columns]"
      ]
     },
     "execution_count": 13,
     "metadata": {},
     "output_type": "execute_result"
    }
   ],
   "source": [
    "df_cleaned"
   ]
  },
  {
   "cell_type": "markdown",
   "id": "523117e2",
   "metadata": {},
   "source": [
    "Identify and transform the numeric columns within the cleaned dataframe"
   ]
  },
  {
   "cell_type": "code",
   "execution_count": 14,
   "id": "a9acad98",
   "metadata": {},
   "outputs": [],
   "source": [
    "from sklearn.preprocessing import StandardScaler, OneHotEncoder"
   ]
  },
  {
   "cell_type": "code",
   "execution_count": 15,
   "id": "4a636548",
   "metadata": {},
   "outputs": [],
   "source": [
    "num_cols = ['review_overall', 'review_aroma', 'review_appearance', 'review_palate', 'review_taste', 'beer_abv', 'beer_beerid']"
   ]
  },
  {
   "cell_type": "code",
   "execution_count": 16,
   "id": "11642e30",
   "metadata": {},
   "outputs": [],
   "source": [
    "sc = StandardScaler()"
   ]
  },
  {
   "cell_type": "code",
   "execution_count": 17,
   "id": "b4f904e6",
   "metadata": {},
   "outputs": [],
   "source": [
    "df_cleaned[num_cols] = sc.fit_transform(df_cleaned[num_cols])"
   ]
  },
  {
   "cell_type": "code",
   "execution_count": 18,
   "id": "f1c847c9",
   "metadata": {},
   "outputs": [],
   "source": [
    "cat_cols = ['beer_style']"
   ]
  },
  {
   "cell_type": "code",
   "execution_count": 19,
   "id": "608e0663",
   "metadata": {},
   "outputs": [
    {
     "data": {
      "text/plain": [
       "['beer_style']"
      ]
     },
     "execution_count": 19,
     "metadata": {},
     "output_type": "execute_result"
    }
   ],
   "source": [
    "cat_cols"
   ]
  },
  {
   "cell_type": "code",
   "execution_count": 20,
   "id": "072eed9e",
   "metadata": {},
   "outputs": [],
   "source": [
    "ohe = OneHotEncoder(sparse=False)"
   ]
  },
  {
   "cell_type": "code",
   "execution_count": 21,
   "id": "7b553d03",
   "metadata": {},
   "outputs": [],
   "source": [
    "X_cat = pd.DataFrame(ohe.fit_transform(df_cleaned[cat_cols]))"
   ]
  },
  {
   "cell_type": "code",
   "execution_count": 22,
   "id": "b53df5fc",
   "metadata": {},
   "outputs": [
    {
     "name": "stderr",
     "output_type": "stream",
     "text": [
      "C:\\Users\\z3066824\\Anaconda3\\lib\\site-packages\\sklearn\\utils\\deprecation.py:87: FutureWarning: Function get_feature_names is deprecated; get_feature_names is deprecated in 1.0 and will be removed in 1.2. Please use get_feature_names_out instead.\n",
      "  warnings.warn(msg, category=FutureWarning)\n"
     ]
    }
   ],
   "source": [
    "X_cat.columns = ohe.get_feature_names(cat_cols)"
   ]
  },
  {
   "cell_type": "code",
   "execution_count": 23,
   "id": "724ace49",
   "metadata": {},
   "outputs": [],
   "source": [
    "df_cleaned.drop(cat_cols, axis=1, inplace=True)"
   ]
  },
  {
   "cell_type": "markdown",
   "id": "13862cd7",
   "metadata": {},
   "source": [
    "Assign X and y variables for modelling"
   ]
  },
  {
   "cell_type": "code",
   "execution_count": 24,
   "id": "5a3e2a13",
   "metadata": {},
   "outputs": [],
   "source": [
    "X = pd.concat([df_cleaned, X_cat], axis=1)"
   ]
  },
  {
   "cell_type": "code",
   "execution_count": 25,
   "id": "3a577d1e",
   "metadata": {},
   "outputs": [
    {
     "data": {
      "text/plain": [
       "(1518478, 115)"
      ]
     },
     "execution_count": 25,
     "metadata": {},
     "output_type": "execute_result"
    }
   ],
   "source": [
    "X.shape"
   ]
  },
  {
   "cell_type": "code",
   "execution_count": 26,
   "id": "41f4a1b9",
   "metadata": {},
   "outputs": [],
   "source": [
    "y = np.array(df['beer_beerid'])"
   ]
  },
  {
   "cell_type": "code",
   "execution_count": 27,
   "id": "3f34cd61",
   "metadata": {},
   "outputs": [
    {
     "data": {
      "text/plain": [
       "(1586614,)"
      ]
     },
     "execution_count": 27,
     "metadata": {},
     "output_type": "execute_result"
    }
   ],
   "source": [
    "y.shape"
   ]
  },
  {
   "cell_type": "code",
   "execution_count": 28,
   "id": "e5f40e07",
   "metadata": {},
   "outputs": [
    {
     "data": {
      "text/plain": [
       "array([[47986],\n",
       "       [48213],\n",
       "       [48215],\n",
       "       ...,\n",
       "       [33061],\n",
       "       [33061],\n",
       "       [33061]], dtype=int64)"
      ]
     },
     "execution_count": 28,
     "metadata": {},
     "output_type": "execute_result"
    }
   ],
   "source": [
    "y.reshape(-1, 1)"
   ]
  },
  {
   "cell_type": "markdown",
   "id": "1d7cb319",
   "metadata": {},
   "source": [
    "Import sk learn features and prepare testing and training datasets"
   ]
  },
  {
   "cell_type": "code",
   "execution_count": 29,
   "id": "05ca5249",
   "metadata": {},
   "outputs": [],
   "source": [
    "from sklearn.model_selection import train_test_split"
   ]
  },
  {
   "cell_type": "code",
   "execution_count": 30,
   "id": "3554f1a1",
   "metadata": {},
   "outputs": [],
   "source": [
    "y_test = train_test_split(\n",
    "    df['beer_beerid'], test_size=0.2, random_state=42)"
   ]
  },
  {
   "cell_type": "code",
   "execution_count": 31,
   "id": "7613c5e7",
   "metadata": {},
   "outputs": [],
   "source": [
    "X_train, X_test = train_test_split(df_cleaned, test_size=0.2, random_state=8)"
   ]
  },
  {
   "cell_type": "code",
   "execution_count": 32,
   "id": "2a675b79",
   "metadata": {},
   "outputs": [],
   "source": [
    "from sklearn.dummy import DummyRegressor"
   ]
  },
  {
   "cell_type": "code",
   "execution_count": 33,
   "id": "773ce782",
   "metadata": {},
   "outputs": [],
   "source": [
    "dummy_regr = DummyRegressor(strategy=\"mean\")"
   ]
  },
  {
   "cell_type": "code",
   "execution_count": 34,
   "id": "e10682b8",
   "metadata": {},
   "outputs": [
    {
     "data": {
      "text/plain": [
       "DummyRegressor()"
      ]
     },
     "execution_count": 34,
     "metadata": {},
     "output_type": "execute_result"
    }
   ],
   "source": [
    "dummy_regr.fit(X, y[:1518478])"
   ]
  },
  {
   "cell_type": "code",
   "execution_count": 35,
   "id": "6eca388d",
   "metadata": {},
   "outputs": [
    {
     "data": {
      "text/plain": [
       "array([21865.46136592, 21865.46136592, 21865.46136592, ...,\n",
       "       21865.46136592, 21865.46136592, 21865.46136592])"
      ]
     },
     "execution_count": 35,
     "metadata": {},
     "output_type": "execute_result"
    }
   ],
   "source": [
    "dummy_regr.predict(y)"
   ]
  },
  {
   "cell_type": "code",
   "execution_count": 36,
   "id": "5c2808c2",
   "metadata": {},
   "outputs": [
    {
     "data": {
      "text/plain": [
       "0.0"
      ]
     },
     "execution_count": 36,
     "metadata": {},
     "output_type": "execute_result"
    }
   ],
   "source": [
    "dummy_regr.score(X, y[:1518478])"
   ]
  },
  {
   "cell_type": "code",
   "execution_count": 37,
   "id": "4d10d223",
   "metadata": {},
   "outputs": [],
   "source": [
    "baseline_model = DummyRegressor()"
   ]
  },
  {
   "cell_type": "markdown",
   "id": "4c9ed7ef",
   "metadata": {},
   "source": []
  },
  {
   "cell_type": "markdown",
   "id": "b5b8256d",
   "metadata": {},
   "source": [
    "Develop a linear regression model fitting X and y"
   ]
  },
  {
   "cell_type": "code",
   "execution_count": 58,
   "id": "7ea288eb",
   "metadata": {},
   "outputs": [],
   "source": [
    "y_base = baseline_model.fit(X, y[:1518478])"
   ]
  },
  {
   "cell_type": "code",
   "execution_count": 39,
   "id": "ba4eb9d8",
   "metadata": {},
   "outputs": [],
   "source": [
    "from sklearn.linear_model import LinearRegression\n",
    "from sklearn.pipeline import Pipeline"
   ]
  },
  {
   "cell_type": "code",
   "execution_count": 40,
   "id": "92bd65db",
   "metadata": {},
   "outputs": [],
   "source": [
    "from sklearn.impute import SimpleImputer\n",
    "from sklearn.base import BaseEstimator\n",
    "from sklearn.base import TransformerMixin\n",
    "from sklearn.pipeline import Pipeline\n",
    "from sklearn.compose import ColumnTransformer"
   ]
  },
  {
   "cell_type": "code",
   "execution_count": 41,
   "id": "f2b348d3",
   "metadata": {},
   "outputs": [],
   "source": [
    "class ColumnSelectTransformer(BaseEstimator, TransformerMixin):\n",
    "    def __init__(self, columns):\n",
    "        self.columns = columns"
   ]
  },
  {
   "cell_type": "code",
   "execution_count": 42,
   "id": "6d9efce4",
   "metadata": {},
   "outputs": [],
   "source": [
    "def fit(self, X, y=None):\n",
    "        return self"
   ]
  },
  {
   "cell_type": "code",
   "execution_count": 43,
   "id": "755286fd",
   "metadata": {},
   "outputs": [],
   "source": [
    "def transform(self, X):\n",
    "        if not isinstance(X, pd.DataFrame):\n",
    "            X = pd.DataFrame(X)\n",
    "        return X[self.columns].values"
   ]
  },
  {
   "cell_type": "markdown",
   "id": "780606eb",
   "metadata": {},
   "source": [
    "Create a pipeline for the model"
   ]
  },
  {
   "cell_type": "code",
   "execution_count": 44,
   "id": "67920d58",
   "metadata": {},
   "outputs": [],
   "source": [
    "simple_features = Pipeline([\n",
    "    ('imputer', SimpleImputer(strategy='mean')),\n",
    "])"
   ]
  },
  {
   "cell_type": "code",
   "execution_count": 45,
   "id": "0ea413a6",
   "metadata": {},
   "outputs": [],
   "source": [
    "simple_model = Pipeline([\n",
    "    ('simple', simple_features),\n",
    "    ('linear', LinearRegression()),\n",
    "])"
   ]
  },
  {
   "cell_type": "code",
   "execution_count": 46,
   "id": "2a369fd5",
   "metadata": {},
   "outputs": [],
   "source": [
    "num_transformer = Pipeline(\n",
    "    steps=[\n",
    "        ('scaler', StandardScaler())\n",
    "    ]\n",
    ")"
   ]
  },
  {
   "cell_type": "code",
   "execution_count": 47,
   "id": "b8fb6597",
   "metadata": {},
   "outputs": [],
   "source": [
    "cat_transformer = Pipeline(\n",
    "    steps=[\n",
    "        ('one_hot_encoder', OneHotEncoder(sparse=False, drop='first'))\n",
    "    ]\n",
    ")"
   ]
  },
  {
   "cell_type": "code",
   "execution_count": 48,
   "id": "b0171d8b",
   "metadata": {},
   "outputs": [],
   "source": [
    "preprocessor = ColumnTransformer(\n",
    "    transformers=[\n",
    "        ('num_cols', num_transformer, num_cols),\n",
    "        ('cat_cols', cat_transformer, cat_cols)\n",
    "    ]\n",
    ")"
   ]
  },
  {
   "cell_type": "code",
   "execution_count": 49,
   "id": "9185a741",
   "metadata": {},
   "outputs": [],
   "source": [
    "simple_pipe = Pipeline(\n",
    "    steps=[\n",
    "        ('preprocessor', preprocessor)\n",
    "    ]\n",
    ")"
   ]
  },
  {
   "cell_type": "code",
   "execution_count": 50,
   "id": "becb6c72",
   "metadata": {},
   "outputs": [
    {
     "data": {
      "text/plain": [
       "Pipeline(steps=[('preprocessor',\n",
       "                 ColumnTransformer(transformers=[('num_cols',\n",
       "                                                  Pipeline(steps=[('scaler',\n",
       "                                                                   StandardScaler())]),\n",
       "                                                  ['review_overall',\n",
       "                                                   'review_aroma',\n",
       "                                                   'review_appearance',\n",
       "                                                   'review_palate',\n",
       "                                                   'review_taste', 'beer_abv',\n",
       "                                                   'beer_beerid']),\n",
       "                                                 ('cat_cols',\n",
       "                                                  Pipeline(steps=[('one_hot_encoder',\n",
       "                                                                   OneHotEncoder(drop='first',\n",
       "                                                                                 sparse=False))]),\n",
       "                                                  ['beer_style'])]))])"
      ]
     },
     "execution_count": 50,
     "metadata": {},
     "output_type": "execute_result"
    }
   ],
   "source": [
    "simple_pipe.fit(df)"
   ]
  },
  {
   "cell_type": "markdown",
   "id": "f1a2a107",
   "metadata": {},
   "source": [
    "Define a probability function"
   ]
  },
  {
   "cell_type": "code",
   "execution_count": 65,
   "id": "a3a21fb4",
   "metadata": {},
   "outputs": [],
   "source": [
    "def positive_probability(baseline_model):\n",
    "    def predict_proba(X):\n",
    "        return model.predict_proba(X)[:, 1]\n",
    "    return predictions"
   ]
  },
  {
   "cell_type": "code",
   "execution_count": 66,
   "id": "fb99e8a6",
   "metadata": {},
   "outputs": [],
   "source": [
    "from random import randrange"
   ]
  },
  {
   "cell_type": "code",
   "execution_count": 67,
   "id": "3867a7d9",
   "metadata": {},
   "outputs": [],
   "source": [
    "from random import seed"
   ]
  },
  {
   "cell_type": "code",
   "execution_count": 68,
   "id": "5726a359",
   "metadata": {},
   "outputs": [],
   "source": [
    "seed(1)"
   ]
  },
  {
   "cell_type": "code",
   "execution_count": 69,
   "id": "d4cede44",
   "metadata": {},
   "outputs": [],
   "source": [
    "train = X\n",
    "test = y[:1518478]"
   ]
  },
  {
   "cell_type": "code",
   "execution_count": 80,
   "id": "daad22a4",
   "metadata": {},
   "outputs": [],
   "source": [
    "def zero_rule_algorithm_regression(train, test):\n",
    "    output_values = [row[-1] for row in train]\n",
    "    prediction = sum(num_cols) / float(len(num_cols))\n",
    "    predicted = [prediction for i in range(len(test))]\n",
    "    return predicted"
   ]
  },
  {
   "cell_type": "markdown",
   "id": "430fe08e",
   "metadata": {},
   "source": [
    "train a custom neural networks model"
   ]
  },
  {
   "cell_type": "code",
   "execution_count": 56,
   "id": "a57992e1",
   "metadata": {},
   "outputs": [
    {
     "name": "stdout",
     "output_type": "stream",
     "text": [
      "^C\n",
      "\n",
      "Note: you may need to restart the kernel to use updated packages.\n"
     ]
    }
   ],
   "source": [
    "conda create -n env_pytorch python=3.8"
   ]
  },
  {
   "cell_type": "code",
   "execution_count": 54,
   "id": "546d4015",
   "metadata": {},
   "outputs": [
    {
     "name": "stdout",
     "output_type": "stream",
     "text": [
      "Requirement already satisfied: torchvision in c:\\users\\z3066824\\anaconda3\\lib\\site-packages (0.11.3)\n",
      "Requirement already satisfied: numpy in c:\\users\\z3066824\\anaconda3\\lib\\site-packages (from torchvision) (1.21.5)\n",
      "Requirement already satisfied: torch==1.10.2 in c:\\users\\z3066824\\anaconda3\\lib\\site-packages (from torchvision) (1.10.2)\n",
      "Requirement already satisfied: pillow!=8.3.0,>=5.3.0 in c:\\users\\z3066824\\anaconda3\\lib\\site-packages (from torchvision) (8.4.0)\n",
      "Requirement already satisfied: typing-extensions in c:\\users\\z3066824\\anaconda3\\lib\\site-packages (from torch==1.10.2->torchvision) (3.10.0.2)\n",
      "Note: you may need to restart the kernel to use updated packages.\n"
     ]
    }
   ],
   "source": [
    "pip install torchvision"
   ]
  },
  {
   "cell_type": "code",
   "execution_count": 55,
   "id": "3504071f",
   "metadata": {},
   "outputs": [],
   "source": [
    "import torch\n",
    "import torchvision"
   ]
  },
  {
   "cell_type": "markdown",
   "id": "5323f8a5",
   "metadata": {},
   "source": [
    "Examine and enumerate the qualitative dataset"
   ]
  },
  {
   "cell_type": "code",
   "execution_count": 84,
   "id": "174cc02e",
   "metadata": {},
   "outputs": [],
   "source": [
    "data = df['beer_style']"
   ]
  },
  {
   "cell_type": "code",
   "execution_count": 85,
   "id": "c1fa8e82",
   "metadata": {},
   "outputs": [
    {
     "data": {
      "text/plain": [
       "0                        Hefeweizen\n",
       "1                English Strong Ale\n",
       "2            Foreign / Export Stout\n",
       "3                   German Pilsener\n",
       "4    American Double / Imperial IPA\n",
       "5              Herbed / Spiced Beer\n",
       "6              Herbed / Spiced Beer\n",
       "7              Herbed / Spiced Beer\n",
       "8              Herbed / Spiced Beer\n",
       "9              Herbed / Spiced Beer\n",
       "Name: beer_style, dtype: object"
      ]
     },
     "execution_count": 85,
     "metadata": {},
     "output_type": "execute_result"
    }
   ],
   "source": [
    "data[:10]"
   ]
  },
  {
   "cell_type": "code",
   "execution_count": 86,
   "id": "6d80bd52",
   "metadata": {},
   "outputs": [
    {
     "data": {
      "text/plain": [
       "{'Altbier',\n",
       " 'American Adjunct Lager',\n",
       " 'American Amber / Red Ale',\n",
       " 'American Amber / Red Lager',\n",
       " 'American Barleywine',\n",
       " 'American Black Ale',\n",
       " 'American Blonde Ale',\n",
       " 'American Brown Ale',\n",
       " 'American Dark Wheat Ale',\n",
       " 'American Double / Imperial IPA',\n",
       " 'American Double / Imperial Pilsner',\n",
       " 'American Double / Imperial Stout',\n",
       " 'American IPA',\n",
       " 'American Malt Liquor',\n",
       " 'American Pale Ale (APA)',\n",
       " 'American Pale Lager',\n",
       " 'American Pale Wheat Ale',\n",
       " 'American Porter',\n",
       " 'American Stout',\n",
       " 'American Strong Ale',\n",
       " 'American Wild Ale',\n",
       " 'Baltic Porter',\n",
       " 'Belgian Dark Ale',\n",
       " 'Belgian IPA',\n",
       " 'Belgian Pale Ale',\n",
       " 'Belgian Strong Dark Ale',\n",
       " 'Belgian Strong Pale Ale',\n",
       " 'Berliner Weissbier',\n",
       " 'Bière de Champagne / Bière Brut',\n",
       " 'Bière de Garde',\n",
       " 'Black & Tan',\n",
       " 'Bock',\n",
       " 'Braggot',\n",
       " 'California Common / Steam Beer',\n",
       " 'Chile Beer',\n",
       " 'Cream Ale',\n",
       " 'Czech Pilsener',\n",
       " 'Doppelbock',\n",
       " 'Dortmunder / Export Lager',\n",
       " 'Dubbel',\n",
       " 'Dunkelweizen',\n",
       " 'Eisbock',\n",
       " 'English Barleywine',\n",
       " 'English Bitter',\n",
       " 'English Brown Ale',\n",
       " 'English Dark Mild Ale',\n",
       " 'English India Pale Ale (IPA)',\n",
       " 'English Pale Ale',\n",
       " 'English Pale Mild Ale',\n",
       " 'English Porter',\n",
       " 'English Stout',\n",
       " 'English Strong Ale',\n",
       " 'Euro Dark Lager',\n",
       " 'Euro Pale Lager',\n",
       " 'Euro Strong Lager',\n",
       " 'Extra Special / Strong Bitter (ESB)',\n",
       " 'Faro',\n",
       " 'Flanders Oud Bruin',\n",
       " 'Flanders Red Ale',\n",
       " 'Foreign / Export Stout',\n",
       " 'Fruit / Vegetable Beer',\n",
       " 'German Pilsener',\n",
       " 'Gose',\n",
       " 'Gueuze',\n",
       " 'Happoshu',\n",
       " 'Hefeweizen',\n",
       " 'Herbed / Spiced Beer',\n",
       " 'Irish Dry Stout',\n",
       " 'Irish Red Ale',\n",
       " 'Japanese Rice Lager',\n",
       " 'Keller Bier / Zwickel Bier',\n",
       " 'Kristalweizen',\n",
       " 'Kvass',\n",
       " 'Kölsch',\n",
       " 'Lambic - Fruit',\n",
       " 'Lambic - Unblended',\n",
       " 'Light Lager',\n",
       " 'Low Alcohol Beer',\n",
       " 'Maibock / Helles Bock',\n",
       " 'Milk / Sweet Stout',\n",
       " 'Munich Dunkel Lager',\n",
       " 'Munich Helles Lager',\n",
       " 'Märzen / Oktoberfest',\n",
       " 'Oatmeal Stout',\n",
       " 'Old Ale',\n",
       " 'Pumpkin Ale',\n",
       " 'Quadrupel (Quad)',\n",
       " 'Rauchbier',\n",
       " 'Roggenbier',\n",
       " 'Russian Imperial Stout',\n",
       " 'Rye Beer',\n",
       " 'Sahti',\n",
       " 'Saison / Farmhouse Ale',\n",
       " 'Schwarzbier',\n",
       " 'Scotch Ale / Wee Heavy',\n",
       " 'Scottish Ale',\n",
       " 'Scottish Gruit / Ancient Herbed Ale',\n",
       " 'Smoked Beer',\n",
       " 'Tripel',\n",
       " 'Vienna Lager',\n",
       " 'Weizenbock',\n",
       " 'Wheatwine',\n",
       " 'Winter Warmer',\n",
       " 'Witbier'}"
      ]
     },
     "execution_count": 86,
     "metadata": {},
     "output_type": "execute_result"
    }
   ],
   "source": [
    "set(data)"
   ]
  },
  {
   "cell_type": "code",
   "execution_count": 87,
   "id": "ac87e678",
   "metadata": {},
   "outputs": [],
   "source": [
    "vocab=set(data)"
   ]
  },
  {
   "cell_type": "code",
   "execution_count": 88,
   "id": "e4ac1df5",
   "metadata": {},
   "outputs": [],
   "source": [
    "vocab_size = len(data)"
   ]
  },
  {
   "cell_type": "code",
   "execution_count": 89,
   "id": "18e8d0d5",
   "metadata": {},
   "outputs": [
    {
     "data": {
      "text/plain": [
       "1586614"
      ]
     },
     "execution_count": 89,
     "metadata": {},
     "output_type": "execute_result"
    }
   ],
   "source": [
    "vocab_size"
   ]
  },
  {
   "cell_type": "code",
   "execution_count": 91,
   "id": "d397603c",
   "metadata": {},
   "outputs": [
    {
     "data": {
      "text/plain": [
       "{'American Blonde Ale': 0,\n",
       " 'Faro': 1,\n",
       " 'English Stout': 2,\n",
       " 'Fruit / Vegetable Beer': 3,\n",
       " 'Low Alcohol Beer': 4,\n",
       " 'American Pale Ale (APA)': 5,\n",
       " 'Scottish Gruit / Ancient Herbed Ale': 6,\n",
       " 'Dubbel': 7,\n",
       " 'English Brown Ale': 8,\n",
       " 'Black & Tan': 9,\n",
       " 'Roggenbier': 10,\n",
       " 'Märzen / Oktoberfest': 11,\n",
       " 'Sahti': 12,\n",
       " 'California Common / Steam Beer': 13,\n",
       " 'Smoked Beer': 14,\n",
       " 'Belgian Strong Dark Ale': 15,\n",
       " 'Braggot': 16,\n",
       " 'American Double / Imperial IPA': 17,\n",
       " 'English Barleywine': 18,\n",
       " 'Scotch Ale / Wee Heavy': 19,\n",
       " 'Kölsch': 20,\n",
       " 'Quadrupel (Quad)': 21,\n",
       " 'American Adjunct Lager': 22,\n",
       " 'Czech Pilsener': 23,\n",
       " 'Belgian Pale Ale': 24,\n",
       " 'Gueuze': 25,\n",
       " 'Belgian IPA': 26,\n",
       " 'Irish Red Ale': 27,\n",
       " 'American Barleywine': 28,\n",
       " 'Euro Strong Lager': 29,\n",
       " 'Flanders Oud Bruin': 30,\n",
       " 'Gose': 31,\n",
       " 'English Porter': 32,\n",
       " 'Chile Beer': 33,\n",
       " 'Old Ale': 34,\n",
       " 'Cream Ale': 35,\n",
       " 'English Strong Ale': 36,\n",
       " 'Oatmeal Stout': 37,\n",
       " 'Belgian Strong Pale Ale': 38,\n",
       " 'American Amber / Red Lager': 39,\n",
       " 'Eisbock': 40,\n",
       " 'Euro Dark Lager': 41,\n",
       " 'Saison / Farmhouse Ale': 42,\n",
       " 'American Stout': 43,\n",
       " 'American Pale Wheat Ale': 44,\n",
       " 'American Black Ale': 45,\n",
       " 'Scottish Ale': 46,\n",
       " 'American Pale Lager': 47,\n",
       " 'Vienna Lager': 48,\n",
       " 'German Pilsener': 49,\n",
       " 'Munich Dunkel Lager': 50,\n",
       " 'American Dark Wheat Ale': 51,\n",
       " 'Winter Warmer': 52,\n",
       " 'Weizenbock': 53,\n",
       " 'Milk / Sweet Stout': 54,\n",
       " 'Lambic - Unblended': 55,\n",
       " 'American Brown Ale': 56,\n",
       " 'Extra Special / Strong Bitter (ESB)': 57,\n",
       " 'Belgian Dark Ale': 58,\n",
       " 'American Malt Liquor': 59,\n",
       " 'American Double / Imperial Pilsner': 60,\n",
       " 'Russian Imperial Stout': 61,\n",
       " 'Wheatwine': 62,\n",
       " 'Rye Beer': 63,\n",
       " 'Schwarzbier': 64,\n",
       " 'Irish Dry Stout': 65,\n",
       " 'Altbier': 66,\n",
       " 'Kvass': 67,\n",
       " 'Herbed / Spiced Beer': 68,\n",
       " 'Bock': 69,\n",
       " 'Rauchbier': 70,\n",
       " 'Light Lager': 71,\n",
       " 'Flanders Red Ale': 72,\n",
       " 'American Porter': 73,\n",
       " 'American Strong Ale': 74,\n",
       " 'Tripel': 75,\n",
       " 'English Pale Ale': 76,\n",
       " 'American Amber / Red Ale': 77,\n",
       " 'Baltic Porter': 78,\n",
       " 'Euro Pale Lager': 79,\n",
       " 'Kristalweizen': 80,\n",
       " 'English Pale Mild Ale': 81,\n",
       " 'Munich Helles Lager': 82,\n",
       " 'Berliner Weissbier': 83,\n",
       " 'American Double / Imperial Stout': 84,\n",
       " 'Hefeweizen': 85,\n",
       " 'American Wild Ale': 86,\n",
       " 'English Bitter': 87,\n",
       " 'Pumpkin Ale': 88,\n",
       " 'Bière de Garde': 89,\n",
       " 'Witbier': 90,\n",
       " 'English Dark Mild Ale': 91,\n",
       " 'Keller Bier / Zwickel Bier': 92,\n",
       " 'Doppelbock': 93,\n",
       " 'Happoshu': 94,\n",
       " 'Foreign / Export Stout': 95,\n",
       " 'Japanese Rice Lager': 96,\n",
       " 'Dortmunder / Export Lager': 97,\n",
       " 'Bière de Champagne / Bière Brut': 98,\n",
       " 'American IPA': 99,\n",
       " 'Dunkelweizen': 100,\n",
       " 'Maibock / Helles Bock': 101,\n",
       " 'English India Pale Ale (IPA)': 102,\n",
       " 'Lambic - Fruit': 103}"
      ]
     },
     "execution_count": 91,
     "metadata": {},
     "output_type": "execute_result"
    }
   ],
   "source": [
    "word_to_index = {word: i for i, word in enumerate(vocab)}\n",
    "word_to_index"
   ]
  },
  {
   "cell_type": "code",
   "execution_count": 92,
   "id": "c232a40d",
   "metadata": {},
   "outputs": [],
   "source": [
    "data = [word_to_index[word] for word in data]"
   ]
  },
  {
   "cell_type": "code",
   "execution_count": 93,
   "id": "1389b6c4",
   "metadata": {},
   "outputs": [
    {
     "data": {
      "text/plain": [
       "[85, 36, 95, 49, 17, 68, 68, 68, 68, 68]"
      ]
     },
     "execution_count": 93,
     "metadata": {},
     "output_type": "execute_result"
    }
   ],
   "source": [
    "data[:10]"
   ]
  },
  {
   "cell_type": "markdown",
   "id": "2aad447b",
   "metadata": {},
   "source": [
    "Batch and define training data"
   ]
  },
  {
   "cell_type": "code",
   "execution_count": 94,
   "id": "35231e7e",
   "metadata": {},
   "outputs": [],
   "source": [
    "batch_size = 5"
   ]
  },
  {
   "cell_type": "code",
   "execution_count": 95,
   "id": "1c8169db",
   "metadata": {},
   "outputs": [],
   "source": [
    "train_data = [([data[i], data[i+1], data[i+2], data[i+3], data[i+4]], data[i+5]) for i in range (vocab_size - batch_size)]"
   ]
  },
  {
   "cell_type": "code",
   "execution_count": 96,
   "id": "e49c8d75",
   "metadata": {},
   "outputs": [
    {
     "data": {
      "text/plain": [
       "[([85, 36, 95, 49, 17], 68),\n",
       " ([36, 95, 49, 17, 68], 68),\n",
       " ([95, 49, 17, 68, 68], 68),\n",
       " ([49, 17, 68, 68, 68], 68),\n",
       " ([17, 68, 68, 68, 68], 68),\n",
       " ([68, 68, 68, 68, 68], 71),\n",
       " ([68, 68, 68, 68, 71], 68),\n",
       " ([68, 68, 68, 71, 68], 68),\n",
       " ([68, 68, 71, 68, 68], 68),\n",
       " ([68, 71, 68, 68, 68], 68)]"
      ]
     },
     "execution_count": 96,
     "metadata": {},
     "output_type": "execute_result"
    }
   ],
   "source": [
    "train_data[:10]"
   ]
  },
  {
   "cell_type": "code",
   "execution_count": 97,
   "id": "1f78c6f8",
   "metadata": {},
   "outputs": [],
   "source": [
    "embedding_dim = 5"
   ]
  },
  {
   "cell_type": "markdown",
   "id": "f73a0c39",
   "metadata": {},
   "source": [
    "Build the neural Network"
   ]
  },
  {
   "cell_type": "code",
   "execution_count": 98,
   "id": "ca2525c2",
   "metadata": {},
   "outputs": [],
   "source": [
    "import torch.nn as nn\n",
    "import torch.nn.functional as F\n",
    "import torch.optim as optim\n",
    "import time"
   ]
  },
  {
   "cell_type": "code",
   "execution_count": 106,
   "id": "50259549",
   "metadata": {},
   "outputs": [],
   "source": [
    "class Beers(nn.Module):\n",
    "    def __init__(self, vocab_size, embedding_dim, batch_size):\n",
    "        super(Beers, self).__init__()\n",
    "        self.embeddings = nn.Embedding(vocab_size, embedding_dim)\n",
    "        self.linear1 = nn.Linear(batch_size*embedding_dim, 128)\n",
    "        self.linear2 = nn.Linear (128,512)\n",
    "        self.linear3 = nn.Linear(512, vocab_size)"
   ]
  },
  {
   "cell_type": "code",
   "execution_count": 107,
   "id": "13e0c9e9",
   "metadata": {},
   "outputs": [],
   "source": [
    "def forward(self, inputs):\n",
    "    embeds = self.embeddings(inputs).view(1,-1)\n",
    "    out = F. relu(self.linear1(embeds))\n",
    "    out = F.relu(self.linear2(out))\n",
    "    out = self.linear3(out)\n",
    "    log_probs = F.log_softmax(out, dim=1)\n",
    "    return log_probs"
   ]
  },
  {
   "cell_type": "code",
   "execution_count": 108,
   "id": "9fa3405f",
   "metadata": {},
   "outputs": [],
   "source": [
    "model = Beers(vocab_size, embedding_dim, batch_size)"
   ]
  },
  {
   "cell_type": "code",
   "execution_count": 109,
   "id": "4318a2e6",
   "metadata": {},
   "outputs": [
    {
     "data": {
      "text/plain": [
       "Beers(\n",
       "  (embeddings): Embedding(1586614, 5)\n",
       "  (linear1): Linear(in_features=25, out_features=128, bias=True)\n",
       "  (linear2): Linear(in_features=128, out_features=512, bias=True)\n",
       "  (linear3): Linear(in_features=512, out_features=1586614, bias=True)\n",
       ")"
      ]
     },
     "execution_count": 109,
     "metadata": {},
     "output_type": "execute_result"
    }
   ],
   "source": [
    "model"
   ]
  },
  {
   "cell_type": "markdown",
   "id": "23e2d4c5",
   "metadata": {},
   "source": [
    "Define the training function"
   ]
  },
  {
   "cell_type": "code",
   "execution_count": 144,
   "id": "305709f3",
   "metadata": {},
   "outputs": [],
   "source": [
    "model.average_loss = []"
   ]
  },
  {
   "cell_type": "code",
   "execution_count": 117,
   "id": "85359158",
   "metadata": {},
   "outputs": [],
   "source": [
    "epochs = range(100)"
   ]
  },
  {
   "cell_type": "code",
   "execution_count": 130,
   "id": "5099df38",
   "metadata": {},
   "outputs": [
    {
     "data": {
      "text/plain": [
       "[100]"
      ]
     },
     "execution_count": 130,
     "metadata": {},
     "output_type": "execute_result"
    }
   ],
   "source": [
    "[epochs]"
   ]
  },
  {
   "cell_type": "code",
   "execution_count": 149,
   "id": "d07abdac",
   "metadata": {},
   "outputs": [],
   "source": [
    "def train (model, train_data, epochs, word_to_index):\n",
    "    if torch.cuda.is_available():\n",
    "        device = torch.device(\"cuda:0\")\n",
    "        print(\"Training on GPU..\")\n",
    "    else:\n",
    "        device = torch.device(\"cpu\")\n",
    "        print(\"Training on CPU..\")\n",
    "        \n",
    "        model.to(device)\n",
    "        \n",
    "        for i in [epochs]:\n",
    "            model.train()\n",
    "            steps = 0\n",
    "            print_every = 100\n",
    "            running_loss = 0\n",
    "            for feature, target in train_data:\n",
    "                feature_tensor = torch.tensor([feature], dtype=torch.long)\n",
    "                feature_tensor.to(device)\n",
    "                target_tensor = torch.tensor([target], dtype=torch.long)\n",
    "                target_tensor.to(device)\n",
    "                model.zero_grad()\n",
    "                log_probs = model(target_tensor)\n",
    "                loss = criterion(log_probs, target_tensor)\n",
    "                loss.backward()\n",
    "                optimizer.step()\n",
    "                running_loss += loss.item()\n",
    "                steps +=1\n",
    "        \n",
    "                if steps%print_every == 0:\n",
    "                    model.eval()\n",
    "                    average_loss.append(running_loss/print_every)\n",
    "                    print(\"Epochs: {} / {}\".format(i+1, epochs), \"Training Loss: {: .3f}\".format(running_loss/print_every))\n",
    "                    running_loss = 0\n",
    "                model.train\n",
    "            return model"
   ]
  },
  {
   "cell_type": "code",
   "execution_count": 150,
   "id": "23094a8a",
   "metadata": {},
   "outputs": [],
   "source": [
    "model = Beers(vocab_size, embedding_dim, batch_size)\n",
    "criterion = nn.NLLLoss()\n",
    "optimizer = optim.SGD(model.parameters(), lr = 0.01)\n",
    "\n",
    "epochs = 100\n",
    "device = 0\n",
    "\n",
    "start_time = time.time()"
   ]
  },
  {
   "cell_type": "code",
   "execution_count": 151,
   "id": "aad0b02f",
   "metadata": {},
   "outputs": [
    {
     "name": "stdout",
     "output_type": "stream",
     "text": [
      "training took 0 minutes\n"
     ]
    }
   ],
   "source": [
    "print(\"training took {} minutes\".format(round((start_time - time.time())/60),2))"
   ]
  },
  {
   "cell_type": "markdown",
   "id": "3631cd5b",
   "metadata": {},
   "source": [
    "Create a batch generator on the train_data"
   ]
  },
  {
   "cell_type": "code",
   "execution_count": 158,
   "id": "54eccea6",
   "metadata": {},
   "outputs": [],
   "source": [
    "from torch.utils.data.dataset import random_split"
   ]
  },
  {
   "cell_type": "code",
   "execution_count": 160,
   "id": "f52e2119",
   "metadata": {},
   "outputs": [],
   "source": [
    "train_len = int(len(train_data) * 0.95)\n",
    "valid_len = len(train_data) - train_len"
   ]
  },
  {
   "cell_type": "code",
   "execution_count": 161,
   "id": "47e91b03",
   "metadata": {},
   "outputs": [],
   "source": [
    "train_data, valid_data = random_split(train_data, [train_len, valid_len])"
   ]
  },
  {
   "cell_type": "code",
   "execution_count": 162,
   "id": "388ff38c",
   "metadata": {},
   "outputs": [],
   "source": [
    "examples = enumerate(train_data)\n",
    "batch_idx, (example_data, example_targets) = next(examples)"
   ]
  },
  {
   "cell_type": "code",
   "execution_count": 163,
   "id": "521a821a",
   "metadata": {},
   "outputs": [
    {
     "data": {
      "text/plain": [
       "17"
      ]
     },
     "execution_count": 163,
     "metadata": {},
     "output_type": "execute_result"
    }
   ],
   "source": [
    "example_targets"
   ]
  },
  {
   "cell_type": "code",
   "execution_count": 164,
   "id": "fc59f9b9",
   "metadata": {},
   "outputs": [],
   "source": [
    "def generate_batch(batch):\n",
    "    label = torch.tensor([entry[0] for entry in batch])\n",
    "    text = [entry[1] for entry in batch]\n",
    "    \n",
    "    offsets = [0] + [len(entry) for entry in text]\n",
    "    offsets = torch.tensor(offsets[:-1]).cumsum(dim=0)\n",
    "    text = torch.cat(text)\n",
    "    return text, offsets, label"
   ]
  },
  {
   "cell_type": "code",
   "execution_count": 165,
   "id": "54255479",
   "metadata": {},
   "outputs": [],
   "source": [
    "class TextTopic(nn.Module):\n",
    "    def __init__(self, vocab_size, embed_dim, num_class):\n",
    "        super().__init__()\n",
    "        self.embedding = nn.EmbeddingBag(vocab_size, embed_dim, sparse=True)\n",
    "        self.fc = nn.Linear(embed_dim, num_class)\n",
    "        self.softmax = nn.Softmax(dim=1)\n",
    "\n",
    "    def forward(self, text, offsets):\n",
    "        x = F.dropout(self.embedding(text, offsets), 0.3)\n",
    "        x = F.dropout(self.fc(x), 0.3)\n",
    "        return self.softmax(x)"
   ]
  },
  {
   "cell_type": "code",
   "execution_count": 166,
   "id": "23d05f96",
   "metadata": {},
   "outputs": [],
   "source": [
    "model = Beers(vocab_size, embedding_dim, batch_size)"
   ]
  },
  {
   "cell_type": "code",
   "execution_count": 167,
   "id": "42c14211",
   "metadata": {},
   "outputs": [
    {
     "data": {
      "text/plain": [
       "Beers(\n",
       "  (embeddings): Embedding(1586614, 5)\n",
       "  (linear1): Linear(in_features=25, out_features=128, bias=True)\n",
       "  (linear2): Linear(in_features=128, out_features=512, bias=True)\n",
       "  (linear3): Linear(in_features=512, out_features=1586614, bias=True)\n",
       ")"
      ]
     },
     "execution_count": 167,
     "metadata": {},
     "output_type": "execute_result"
    }
   ],
   "source": [
    "model"
   ]
  },
  {
   "cell_type": "code",
   "execution_count": 177,
   "id": "6133dc7c",
   "metadata": {},
   "outputs": [
    {
     "name": "stdout",
     "output_type": "stream",
     "text": [
      "Training on CPU..\n"
     ]
    },
    {
     "ename": "NotImplementedError",
     "evalue": "",
     "output_type": "error",
     "traceback": [
      "\u001b[1;31m---------------------------------------------------------------------------\u001b[0m",
      "\u001b[1;31mNotImplementedError\u001b[0m                       Traceback (most recent call last)",
      "\u001b[1;32m~\\AppData\\Local\\Temp/ipykernel_20880/492817940.py\u001b[0m in \u001b[0;36m<module>\u001b[1;34m\u001b[0m\n\u001b[1;32m----> 1\u001b[1;33m \u001b[0mtrain\u001b[0m\u001b[1;33m(\u001b[0m\u001b[0mmodel\u001b[0m\u001b[1;33m,\u001b[0m \u001b[0mtrain_data\u001b[0m\u001b[1;33m,\u001b[0m \u001b[0mepochs\u001b[0m\u001b[1;33m,\u001b[0m \u001b[0mword_to_index\u001b[0m\u001b[1;33m)\u001b[0m\u001b[1;33m\u001b[0m\u001b[1;33m\u001b[0m\u001b[0m\n\u001b[0m",
      "\u001b[1;32m~\\AppData\\Local\\Temp/ipykernel_20880/864091356.py\u001b[0m in \u001b[0;36mtrain\u001b[1;34m(model, train_data, epochs, word_to_index)\u001b[0m\n\u001b[0;32m     20\u001b[0m                 \u001b[0mtarget_tensor\u001b[0m\u001b[1;33m.\u001b[0m\u001b[0mto\u001b[0m\u001b[1;33m(\u001b[0m\u001b[0mdevice\u001b[0m\u001b[1;33m)\u001b[0m\u001b[1;33m\u001b[0m\u001b[1;33m\u001b[0m\u001b[0m\n\u001b[0;32m     21\u001b[0m                 \u001b[0mmodel\u001b[0m\u001b[1;33m.\u001b[0m\u001b[0mzero_grad\u001b[0m\u001b[1;33m(\u001b[0m\u001b[1;33m)\u001b[0m\u001b[1;33m\u001b[0m\u001b[1;33m\u001b[0m\u001b[0m\n\u001b[1;32m---> 22\u001b[1;33m                 \u001b[0mlog_probs\u001b[0m \u001b[1;33m=\u001b[0m \u001b[0mmodel\u001b[0m\u001b[1;33m(\u001b[0m\u001b[0mtarget_tensor\u001b[0m\u001b[1;33m)\u001b[0m\u001b[1;33m\u001b[0m\u001b[1;33m\u001b[0m\u001b[0m\n\u001b[0m\u001b[0;32m     23\u001b[0m                 \u001b[0mloss\u001b[0m \u001b[1;33m=\u001b[0m \u001b[0mcriterion\u001b[0m\u001b[1;33m(\u001b[0m\u001b[0mlog_probs\u001b[0m\u001b[1;33m,\u001b[0m \u001b[0mtarget_tensor\u001b[0m\u001b[1;33m)\u001b[0m\u001b[1;33m\u001b[0m\u001b[1;33m\u001b[0m\u001b[0m\n\u001b[0;32m     24\u001b[0m                 \u001b[0mloss\u001b[0m\u001b[1;33m.\u001b[0m\u001b[0mbackward\u001b[0m\u001b[1;33m(\u001b[0m\u001b[1;33m)\u001b[0m\u001b[1;33m\u001b[0m\u001b[1;33m\u001b[0m\u001b[0m\n",
      "\u001b[1;32m~\\Anaconda3\\lib\\site-packages\\torch\\nn\\modules\\module.py\u001b[0m in \u001b[0;36m_call_impl\u001b[1;34m(self, *input, **kwargs)\u001b[0m\n\u001b[0;32m   1100\u001b[0m         if not (self._backward_hooks or self._forward_hooks or self._forward_pre_hooks or _global_backward_hooks\n\u001b[0;32m   1101\u001b[0m                 or _global_forward_hooks or _global_forward_pre_hooks):\n\u001b[1;32m-> 1102\u001b[1;33m             \u001b[1;32mreturn\u001b[0m \u001b[0mforward_call\u001b[0m\u001b[1;33m(\u001b[0m\u001b[1;33m*\u001b[0m\u001b[0minput\u001b[0m\u001b[1;33m,\u001b[0m \u001b[1;33m**\u001b[0m\u001b[0mkwargs\u001b[0m\u001b[1;33m)\u001b[0m\u001b[1;33m\u001b[0m\u001b[1;33m\u001b[0m\u001b[0m\n\u001b[0m\u001b[0;32m   1103\u001b[0m         \u001b[1;31m# Do not call functions when jit is used\u001b[0m\u001b[1;33m\u001b[0m\u001b[1;33m\u001b[0m\u001b[1;33m\u001b[0m\u001b[0m\n\u001b[0;32m   1104\u001b[0m         \u001b[0mfull_backward_hooks\u001b[0m\u001b[1;33m,\u001b[0m \u001b[0mnon_full_backward_hooks\u001b[0m \u001b[1;33m=\u001b[0m \u001b[1;33m[\u001b[0m\u001b[1;33m]\u001b[0m\u001b[1;33m,\u001b[0m \u001b[1;33m[\u001b[0m\u001b[1;33m]\u001b[0m\u001b[1;33m\u001b[0m\u001b[1;33m\u001b[0m\u001b[0m\n",
      "\u001b[1;32m~\\Anaconda3\\lib\\site-packages\\torch\\nn\\modules\\module.py\u001b[0m in \u001b[0;36m_forward_unimplemented\u001b[1;34m(self, *input)\u001b[0m\n\u001b[0;32m    199\u001b[0m         \u001b[0mregistered\u001b[0m \u001b[0mhooks\u001b[0m \u001b[1;32mwhile\u001b[0m \u001b[0mthe\u001b[0m \u001b[0mlatter\u001b[0m \u001b[0msilently\u001b[0m \u001b[0mignores\u001b[0m \u001b[0mthem\u001b[0m\u001b[1;33m.\u001b[0m\u001b[1;33m\u001b[0m\u001b[1;33m\u001b[0m\u001b[0m\n\u001b[0;32m    200\u001b[0m     \"\"\"\n\u001b[1;32m--> 201\u001b[1;33m     \u001b[1;32mraise\u001b[0m \u001b[0mNotImplementedError\u001b[0m\u001b[1;33m\u001b[0m\u001b[1;33m\u001b[0m\u001b[0m\n\u001b[0m\u001b[0;32m    202\u001b[0m \u001b[1;33m\u001b[0m\u001b[0m\n\u001b[0;32m    203\u001b[0m \u001b[1;33m\u001b[0m\u001b[0m\n",
      "\u001b[1;31mNotImplementedError\u001b[0m: "
     ]
    }
   ],
   "source": [
    "train(model, train_data, epochs, word_to_index)"
   ]
  },
  {
   "cell_type": "markdown",
   "id": "4661a806",
   "metadata": {},
   "source": []
  },
  {
   "cell_type": "code",
   "execution_count": 190,
   "id": "0ecb841f",
   "metadata": {},
   "outputs": [],
   "source": [
    "from torch.utils.data import DataLoader"
   ]
  },
  {
   "cell_type": "code",
   "execution_count": 183,
   "id": "974387f0",
   "metadata": {},
   "outputs": [],
   "source": [
    "criterion = torch.nn.CrossEntropyLoss()"
   ]
  },
  {
   "cell_type": "code",
   "execution_count": 184,
   "id": "174de75f",
   "metadata": {},
   "outputs": [],
   "source": [
    "optimizer = torch.optim.SGD(model.parameters(), lr=4.0)"
   ]
  },
  {
   "cell_type": "code",
   "execution_count": 185,
   "id": "15f01f47",
   "metadata": {},
   "outputs": [],
   "source": [
    "scheduler = torch.optim.lr_scheduler.StepLR(optimizer, 1, gamma=0.9)"
   ]
  },
  {
   "cell_type": "code",
   "execution_count": 194,
   "id": "36c3749a",
   "metadata": {},
   "outputs": [
    {
     "data": {
      "text/plain": [
       "<torch.utils.data.dataset.Subset at 0x28beaac16a0>"
      ]
     },
     "execution_count": 194,
     "metadata": {},
     "output_type": "execute_result"
    }
   ],
   "source": [
    "train_data"
   ]
  },
  {
   "cell_type": "code",
   "execution_count": 195,
   "id": "bccaa4f1",
   "metadata": {},
   "outputs": [],
   "source": [
    "def train_classification(model, criterion, optimizer, batch_size, device, scheduler=None, generate_batch=None):\n",
    "    model.train()\n",
    "    train_loss = 0\n",
    "    train_acc = 0\n",
    "    data = DataLoader(train_data, batch_size=batch_size, shuffle=True, collate_fn=generate_batch)\n",
    "    \n",
    "    for feature, offsets, target_class in data:\n",
    "        optimizer.zero_grad()\n",
    "        feature, target_class = feature.to(device), target_class.to(device)\n",
    "        output = model(feature, offsets)\n",
    "        loss = criterion(output, target_class.long())\n",
    "        train_loss += loss.item()\n",
    "        loss.backward()\n",
    "        optimizer.step()\n",
    "        train_acc += (output.argmax(1) == target_class).sum().item()\n",
    "\n",
    "    if scheduler:\n",
    "        scheduler.step()"
   ]
  },
  {
   "cell_type": "code",
   "execution_count": 196,
   "id": "6609cce0",
   "metadata": {},
   "outputs": [
    {
     "ename": "TypeError",
     "evalue": "object of type 'int' has no len()",
     "output_type": "error",
     "traceback": [
      "\u001b[1;31m---------------------------------------------------------------------------\u001b[0m",
      "\u001b[1;31mTypeError\u001b[0m                                 Traceback (most recent call last)",
      "\u001b[1;32m~\\AppData\\Local\\Temp/ipykernel_20880/326977881.py\u001b[0m in \u001b[0;36m<module>\u001b[1;34m\u001b[0m\n\u001b[0;32m      1\u001b[0m \u001b[1;32mfor\u001b[0m \u001b[0mepoch\u001b[0m \u001b[1;32min\u001b[0m \u001b[0mrange\u001b[0m\u001b[1;33m(\u001b[0m\u001b[0mepochs\u001b[0m\u001b[1;33m)\u001b[0m\u001b[1;33m:\u001b[0m\u001b[1;33m\u001b[0m\u001b[1;33m\u001b[0m\u001b[0m\n\u001b[1;32m----> 2\u001b[1;33m     \u001b[0mtrain_loss\u001b[0m\u001b[1;33m,\u001b[0m \u001b[0mtrain_acc\u001b[0m \u001b[1;33m=\u001b[0m \u001b[0mtrain_classification\u001b[0m\u001b[1;33m(\u001b[0m\u001b[0mmodel\u001b[0m\u001b[1;33m,\u001b[0m \u001b[0mcriterion\u001b[0m\u001b[1;33m,\u001b[0m \u001b[0moptimizer\u001b[0m\u001b[1;33m,\u001b[0m \u001b[0mbatch_size\u001b[0m\u001b[1;33m=\u001b[0m\u001b[0mbatch_size\u001b[0m\u001b[1;33m,\u001b[0m \u001b[0mdevice\u001b[0m\u001b[1;33m=\u001b[0m\u001b[0mdevice\u001b[0m\u001b[1;33m,\u001b[0m \u001b[0mscheduler\u001b[0m\u001b[1;33m=\u001b[0m\u001b[0mscheduler\u001b[0m\u001b[1;33m,\u001b[0m \u001b[0mgenerate_batch\u001b[0m\u001b[1;33m=\u001b[0m\u001b[0mgenerate_batch\u001b[0m\u001b[1;33m)\u001b[0m\u001b[1;33m\u001b[0m\u001b[1;33m\u001b[0m\u001b[0m\n\u001b[0m\u001b[0;32m      3\u001b[0m     \u001b[0mvalid_loss\u001b[0m\u001b[1;33m,\u001b[0m \u001b[0mvalid_acc\u001b[0m \u001b[1;33m=\u001b[0m \u001b[0mtest_classification\u001b[0m\u001b[1;33m(\u001b[0m\u001b[0mvalid_data\u001b[0m\u001b[1;33m,\u001b[0m \u001b[0mmodel\u001b[0m\u001b[1;33m,\u001b[0m \u001b[0mcriterion\u001b[0m\u001b[1;33m,\u001b[0m \u001b[0mbatch_size\u001b[0m\u001b[1;33m=\u001b[0m\u001b[0mbatch_size\u001b[0m\u001b[1;33m,\u001b[0m \u001b[0mdevice\u001b[0m\u001b[1;33m=\u001b[0m\u001b[0mdevice\u001b[0m\u001b[1;33m,\u001b[0m \u001b[0mgenerate_batch\u001b[0m\u001b[1;33m=\u001b[0m\u001b[0mgenerate_batch\u001b[0m\u001b[1;33m)\u001b[0m\u001b[1;33m\u001b[0m\u001b[1;33m\u001b[0m\u001b[0m\n\u001b[0;32m      4\u001b[0m \u001b[1;33m\u001b[0m\u001b[0m\n\u001b[0;32m      5\u001b[0m     \u001b[0mprint\u001b[0m\u001b[1;33m(\u001b[0m\u001b[1;34mf'Epoch: {epoch}'\u001b[0m\u001b[1;33m)\u001b[0m\u001b[1;33m\u001b[0m\u001b[1;33m\u001b[0m\u001b[0m\n",
      "\u001b[1;32m~\\AppData\\Local\\Temp/ipykernel_20880/1054567501.py\u001b[0m in \u001b[0;36mtrain_classification\u001b[1;34m(model, criterion, optimizer, batch_size, device, scheduler, generate_batch)\u001b[0m\n\u001b[0;32m      5\u001b[0m     \u001b[0mdata\u001b[0m \u001b[1;33m=\u001b[0m \u001b[0mDataLoader\u001b[0m\u001b[1;33m(\u001b[0m\u001b[0mtrain_data\u001b[0m\u001b[1;33m,\u001b[0m \u001b[0mbatch_size\u001b[0m\u001b[1;33m=\u001b[0m\u001b[0mbatch_size\u001b[0m\u001b[1;33m,\u001b[0m \u001b[0mshuffle\u001b[0m\u001b[1;33m=\u001b[0m\u001b[1;32mTrue\u001b[0m\u001b[1;33m,\u001b[0m \u001b[0mcollate_fn\u001b[0m\u001b[1;33m=\u001b[0m\u001b[0mgenerate_batch\u001b[0m\u001b[1;33m)\u001b[0m\u001b[1;33m\u001b[0m\u001b[1;33m\u001b[0m\u001b[0m\n\u001b[0;32m      6\u001b[0m \u001b[1;33m\u001b[0m\u001b[0m\n\u001b[1;32m----> 7\u001b[1;33m     \u001b[1;32mfor\u001b[0m \u001b[0mfeature\u001b[0m\u001b[1;33m,\u001b[0m \u001b[0moffsets\u001b[0m\u001b[1;33m,\u001b[0m \u001b[0mtarget_class\u001b[0m \u001b[1;32min\u001b[0m \u001b[0mdata\u001b[0m\u001b[1;33m:\u001b[0m\u001b[1;33m\u001b[0m\u001b[1;33m\u001b[0m\u001b[0m\n\u001b[0m\u001b[0;32m      8\u001b[0m         \u001b[0moptimizer\u001b[0m\u001b[1;33m.\u001b[0m\u001b[0mzero_grad\u001b[0m\u001b[1;33m(\u001b[0m\u001b[1;33m)\u001b[0m\u001b[1;33m\u001b[0m\u001b[1;33m\u001b[0m\u001b[0m\n\u001b[0;32m      9\u001b[0m         \u001b[0mfeature\u001b[0m\u001b[1;33m,\u001b[0m \u001b[0mtarget_class\u001b[0m \u001b[1;33m=\u001b[0m \u001b[0mfeature\u001b[0m\u001b[1;33m.\u001b[0m\u001b[0mto\u001b[0m\u001b[1;33m(\u001b[0m\u001b[0mdevice\u001b[0m\u001b[1;33m)\u001b[0m\u001b[1;33m,\u001b[0m \u001b[0mtarget_class\u001b[0m\u001b[1;33m.\u001b[0m\u001b[0mto\u001b[0m\u001b[1;33m(\u001b[0m\u001b[0mdevice\u001b[0m\u001b[1;33m)\u001b[0m\u001b[1;33m\u001b[0m\u001b[1;33m\u001b[0m\u001b[0m\n",
      "\u001b[1;32m~\\Anaconda3\\lib\\site-packages\\torch\\utils\\data\\dataloader.py\u001b[0m in \u001b[0;36m__next__\u001b[1;34m(self)\u001b[0m\n\u001b[0;32m    519\u001b[0m             \u001b[1;32mif\u001b[0m \u001b[0mself\u001b[0m\u001b[1;33m.\u001b[0m\u001b[0m_sampler_iter\u001b[0m \u001b[1;32mis\u001b[0m \u001b[1;32mNone\u001b[0m\u001b[1;33m:\u001b[0m\u001b[1;33m\u001b[0m\u001b[1;33m\u001b[0m\u001b[0m\n\u001b[0;32m    520\u001b[0m                 \u001b[0mself\u001b[0m\u001b[1;33m.\u001b[0m\u001b[0m_reset\u001b[0m\u001b[1;33m(\u001b[0m\u001b[1;33m)\u001b[0m\u001b[1;33m\u001b[0m\u001b[1;33m\u001b[0m\u001b[0m\n\u001b[1;32m--> 521\u001b[1;33m             \u001b[0mdata\u001b[0m \u001b[1;33m=\u001b[0m \u001b[0mself\u001b[0m\u001b[1;33m.\u001b[0m\u001b[0m_next_data\u001b[0m\u001b[1;33m(\u001b[0m\u001b[1;33m)\u001b[0m\u001b[1;33m\u001b[0m\u001b[1;33m\u001b[0m\u001b[0m\n\u001b[0m\u001b[0;32m    522\u001b[0m             \u001b[0mself\u001b[0m\u001b[1;33m.\u001b[0m\u001b[0m_num_yielded\u001b[0m \u001b[1;33m+=\u001b[0m \u001b[1;36m1\u001b[0m\u001b[1;33m\u001b[0m\u001b[1;33m\u001b[0m\u001b[0m\n\u001b[0;32m    523\u001b[0m             \u001b[1;32mif\u001b[0m \u001b[0mself\u001b[0m\u001b[1;33m.\u001b[0m\u001b[0m_dataset_kind\u001b[0m \u001b[1;33m==\u001b[0m \u001b[0m_DatasetKind\u001b[0m\u001b[1;33m.\u001b[0m\u001b[0mIterable\u001b[0m \u001b[1;32mand\u001b[0m\u001b[0;31m \u001b[0m\u001b[0;31m\\\u001b[0m\u001b[1;33m\u001b[0m\u001b[1;33m\u001b[0m\u001b[0m\n",
      "\u001b[1;32m~\\Anaconda3\\lib\\site-packages\\torch\\utils\\data\\dataloader.py\u001b[0m in \u001b[0;36m_next_data\u001b[1;34m(self)\u001b[0m\n\u001b[0;32m    559\u001b[0m     \u001b[1;32mdef\u001b[0m \u001b[0m_next_data\u001b[0m\u001b[1;33m(\u001b[0m\u001b[0mself\u001b[0m\u001b[1;33m)\u001b[0m\u001b[1;33m:\u001b[0m\u001b[1;33m\u001b[0m\u001b[1;33m\u001b[0m\u001b[0m\n\u001b[0;32m    560\u001b[0m         \u001b[0mindex\u001b[0m \u001b[1;33m=\u001b[0m \u001b[0mself\u001b[0m\u001b[1;33m.\u001b[0m\u001b[0m_next_index\u001b[0m\u001b[1;33m(\u001b[0m\u001b[1;33m)\u001b[0m  \u001b[1;31m# may raise StopIteration\u001b[0m\u001b[1;33m\u001b[0m\u001b[1;33m\u001b[0m\u001b[0m\n\u001b[1;32m--> 561\u001b[1;33m         \u001b[0mdata\u001b[0m \u001b[1;33m=\u001b[0m \u001b[0mself\u001b[0m\u001b[1;33m.\u001b[0m\u001b[0m_dataset_fetcher\u001b[0m\u001b[1;33m.\u001b[0m\u001b[0mfetch\u001b[0m\u001b[1;33m(\u001b[0m\u001b[0mindex\u001b[0m\u001b[1;33m)\u001b[0m  \u001b[1;31m# may raise StopIteration\u001b[0m\u001b[1;33m\u001b[0m\u001b[1;33m\u001b[0m\u001b[0m\n\u001b[0m\u001b[0;32m    562\u001b[0m         \u001b[1;32mif\u001b[0m \u001b[0mself\u001b[0m\u001b[1;33m.\u001b[0m\u001b[0m_pin_memory\u001b[0m\u001b[1;33m:\u001b[0m\u001b[1;33m\u001b[0m\u001b[1;33m\u001b[0m\u001b[0m\n\u001b[0;32m    563\u001b[0m             \u001b[0mdata\u001b[0m \u001b[1;33m=\u001b[0m \u001b[0m_utils\u001b[0m\u001b[1;33m.\u001b[0m\u001b[0mpin_memory\u001b[0m\u001b[1;33m.\u001b[0m\u001b[0mpin_memory\u001b[0m\u001b[1;33m(\u001b[0m\u001b[0mdata\u001b[0m\u001b[1;33m)\u001b[0m\u001b[1;33m\u001b[0m\u001b[1;33m\u001b[0m\u001b[0m\n",
      "\u001b[1;32m~\\Anaconda3\\lib\\site-packages\\torch\\utils\\data\\_utils\\fetch.py\u001b[0m in \u001b[0;36mfetch\u001b[1;34m(self, possibly_batched_index)\u001b[0m\n\u001b[0;32m     50\u001b[0m         \u001b[1;32melse\u001b[0m\u001b[1;33m:\u001b[0m\u001b[1;33m\u001b[0m\u001b[1;33m\u001b[0m\u001b[0m\n\u001b[0;32m     51\u001b[0m             \u001b[0mdata\u001b[0m \u001b[1;33m=\u001b[0m \u001b[0mself\u001b[0m\u001b[1;33m.\u001b[0m\u001b[0mdataset\u001b[0m\u001b[1;33m[\u001b[0m\u001b[0mpossibly_batched_index\u001b[0m\u001b[1;33m]\u001b[0m\u001b[1;33m\u001b[0m\u001b[1;33m\u001b[0m\u001b[0m\n\u001b[1;32m---> 52\u001b[1;33m         \u001b[1;32mreturn\u001b[0m \u001b[0mself\u001b[0m\u001b[1;33m.\u001b[0m\u001b[0mcollate_fn\u001b[0m\u001b[1;33m(\u001b[0m\u001b[0mdata\u001b[0m\u001b[1;33m)\u001b[0m\u001b[1;33m\u001b[0m\u001b[1;33m\u001b[0m\u001b[0m\n\u001b[0m",
      "\u001b[1;32m~\\AppData\\Local\\Temp/ipykernel_20880/2284086275.py\u001b[0m in \u001b[0;36mgenerate_batch\u001b[1;34m(batch)\u001b[0m\n\u001b[0;32m      3\u001b[0m     \u001b[0mtext\u001b[0m \u001b[1;33m=\u001b[0m \u001b[1;33m[\u001b[0m\u001b[0mentry\u001b[0m\u001b[1;33m[\u001b[0m\u001b[1;36m1\u001b[0m\u001b[1;33m]\u001b[0m \u001b[1;32mfor\u001b[0m \u001b[0mentry\u001b[0m \u001b[1;32min\u001b[0m \u001b[0mbatch\u001b[0m\u001b[1;33m]\u001b[0m\u001b[1;33m\u001b[0m\u001b[1;33m\u001b[0m\u001b[0m\n\u001b[0;32m      4\u001b[0m \u001b[1;33m\u001b[0m\u001b[0m\n\u001b[1;32m----> 5\u001b[1;33m     \u001b[0moffsets\u001b[0m \u001b[1;33m=\u001b[0m \u001b[1;33m[\u001b[0m\u001b[1;36m0\u001b[0m\u001b[1;33m]\u001b[0m \u001b[1;33m+\u001b[0m \u001b[1;33m[\u001b[0m\u001b[0mlen\u001b[0m\u001b[1;33m(\u001b[0m\u001b[0mentry\u001b[0m\u001b[1;33m)\u001b[0m \u001b[1;32mfor\u001b[0m \u001b[0mentry\u001b[0m \u001b[1;32min\u001b[0m \u001b[0mtext\u001b[0m\u001b[1;33m]\u001b[0m\u001b[1;33m\u001b[0m\u001b[1;33m\u001b[0m\u001b[0m\n\u001b[0m\u001b[0;32m      6\u001b[0m     \u001b[0moffsets\u001b[0m \u001b[1;33m=\u001b[0m \u001b[0mtorch\u001b[0m\u001b[1;33m.\u001b[0m\u001b[0mtensor\u001b[0m\u001b[1;33m(\u001b[0m\u001b[0moffsets\u001b[0m\u001b[1;33m[\u001b[0m\u001b[1;33m:\u001b[0m\u001b[1;33m-\u001b[0m\u001b[1;36m1\u001b[0m\u001b[1;33m]\u001b[0m\u001b[1;33m)\u001b[0m\u001b[1;33m.\u001b[0m\u001b[0mcumsum\u001b[0m\u001b[1;33m(\u001b[0m\u001b[0mdim\u001b[0m\u001b[1;33m=\u001b[0m\u001b[1;36m0\u001b[0m\u001b[1;33m)\u001b[0m\u001b[1;33m\u001b[0m\u001b[1;33m\u001b[0m\u001b[0m\n\u001b[0;32m      7\u001b[0m     \u001b[0mtext\u001b[0m \u001b[1;33m=\u001b[0m \u001b[0mtorch\u001b[0m\u001b[1;33m.\u001b[0m\u001b[0mcat\u001b[0m\u001b[1;33m(\u001b[0m\u001b[0mtext\u001b[0m\u001b[1;33m)\u001b[0m\u001b[1;33m\u001b[0m\u001b[1;33m\u001b[0m\u001b[0m\n",
      "\u001b[1;32m~\\AppData\\Local\\Temp/ipykernel_20880/2284086275.py\u001b[0m in \u001b[0;36m<listcomp>\u001b[1;34m(.0)\u001b[0m\n\u001b[0;32m      3\u001b[0m     \u001b[0mtext\u001b[0m \u001b[1;33m=\u001b[0m \u001b[1;33m[\u001b[0m\u001b[0mentry\u001b[0m\u001b[1;33m[\u001b[0m\u001b[1;36m1\u001b[0m\u001b[1;33m]\u001b[0m \u001b[1;32mfor\u001b[0m \u001b[0mentry\u001b[0m \u001b[1;32min\u001b[0m \u001b[0mbatch\u001b[0m\u001b[1;33m]\u001b[0m\u001b[1;33m\u001b[0m\u001b[1;33m\u001b[0m\u001b[0m\n\u001b[0;32m      4\u001b[0m \u001b[1;33m\u001b[0m\u001b[0m\n\u001b[1;32m----> 5\u001b[1;33m     \u001b[0moffsets\u001b[0m \u001b[1;33m=\u001b[0m \u001b[1;33m[\u001b[0m\u001b[1;36m0\u001b[0m\u001b[1;33m]\u001b[0m \u001b[1;33m+\u001b[0m \u001b[1;33m[\u001b[0m\u001b[0mlen\u001b[0m\u001b[1;33m(\u001b[0m\u001b[0mentry\u001b[0m\u001b[1;33m)\u001b[0m \u001b[1;32mfor\u001b[0m \u001b[0mentry\u001b[0m \u001b[1;32min\u001b[0m \u001b[0mtext\u001b[0m\u001b[1;33m]\u001b[0m\u001b[1;33m\u001b[0m\u001b[1;33m\u001b[0m\u001b[0m\n\u001b[0m\u001b[0;32m      6\u001b[0m     \u001b[0moffsets\u001b[0m \u001b[1;33m=\u001b[0m \u001b[0mtorch\u001b[0m\u001b[1;33m.\u001b[0m\u001b[0mtensor\u001b[0m\u001b[1;33m(\u001b[0m\u001b[0moffsets\u001b[0m\u001b[1;33m[\u001b[0m\u001b[1;33m:\u001b[0m\u001b[1;33m-\u001b[0m\u001b[1;36m1\u001b[0m\u001b[1;33m]\u001b[0m\u001b[1;33m)\u001b[0m\u001b[1;33m.\u001b[0m\u001b[0mcumsum\u001b[0m\u001b[1;33m(\u001b[0m\u001b[0mdim\u001b[0m\u001b[1;33m=\u001b[0m\u001b[1;36m0\u001b[0m\u001b[1;33m)\u001b[0m\u001b[1;33m\u001b[0m\u001b[1;33m\u001b[0m\u001b[0m\n\u001b[0;32m      7\u001b[0m     \u001b[0mtext\u001b[0m \u001b[1;33m=\u001b[0m \u001b[0mtorch\u001b[0m\u001b[1;33m.\u001b[0m\u001b[0mcat\u001b[0m\u001b[1;33m(\u001b[0m\u001b[0mtext\u001b[0m\u001b[1;33m)\u001b[0m\u001b[1;33m\u001b[0m\u001b[1;33m\u001b[0m\u001b[0m\n",
      "\u001b[1;31mTypeError\u001b[0m: object of type 'int' has no len()"
     ]
    }
   ],
   "source": [
    "for epoch in range(epochs):\n",
    "    train_loss, train_acc = train_classification(model, criterion, optimizer, batch_size=batch_size, device=device, scheduler=scheduler, generate_batch=generate_batch)\n",
    "    valid_loss, valid_acc = test_classification(valid_data, model, criterion, batch_size=batch_size, device=device, generate_batch=generate_batch)\n",
    "\n",
    "    print(f'Epoch: {epoch}')\n",
    "    print(f'\\t(train)\\t|\\tLoss: {train_loss:.4f}\\t|\\tAcc: {train_acc * 100:.1f}%')\n",
    "    print(f'\\t(valid)\\t|\\tLoss: {valid_loss:.4f}\\t|\\tAcc: {valid_acc * 100:.1f}%')"
   ]
  },
  {
   "cell_type": "markdown",
   "id": "fda9c6df",
   "metadata": {},
   "source": [
    "Check Loss functions using keras"
   ]
  },
  {
   "cell_type": "code",
   "execution_count": 178,
   "id": "b057f749",
   "metadata": {},
   "outputs": [
    {
     "name": "stdout",
     "output_type": "stream",
     "text": [
      "Requirement already satisfied: keras in c:\\users\\z3066824\\anaconda3\\lib\\site-packages (2.8.0)Note: you may need to restart the kernel to use updated packages.\n",
      "\n"
     ]
    }
   ],
   "source": [
    "pip install keras"
   ]
  },
  {
   "cell_type": "code",
   "execution_count": 197,
   "id": "c94be103",
   "metadata": {},
   "outputs": [
    {
     "name": "stdout",
     "output_type": "stream",
     "text": [
      "Requirement already satisfied: tensorflow in c:\\users\\z3066824\\anaconda3\\lib\\site-packages (2.8.0)Note: you may need to restart the kernel to use updated packages.\n",
      "Requirement already satisfied: tensorboard<2.9,>=2.8 in c:\\users\\z3066824\\anaconda3\\lib\\site-packages (from tensorflow) (2.8.0)\n",
      "Requirement already satisfied: keras<2.9,>=2.8.0rc0 in c:\\users\\z3066824\\anaconda3\\lib\\site-packages (from tensorflow) (2.8.0)\n",
      "Requirement already satisfied: grpcio<2.0,>=1.24.3 in c:\\users\\z3066824\\anaconda3\\lib\\site-packages (from tensorflow) (1.44.0)\n",
      "Requirement already satisfied: tensorflow-io-gcs-filesystem>=0.23.1 in c:\\users\\z3066824\\anaconda3\\lib\\site-packages (from tensorflow) (0.24.0)\n",
      "Requirement already satisfied: numpy>=1.20 in c:\\users\\z3066824\\anaconda3\\lib\\site-packages (from tensorflow) (1.21.5)\n",
      "Requirement already satisfied: typing-extensions>=3.6.6 in c:\\users\\z3066824\\anaconda3\\lib\\site-packages (from tensorflow) (3.10.0.2)\n",
      "Requirement already satisfied: setuptools in c:\\users\\z3066824\\anaconda3\\lib\\site-packages (from tensorflow) (58.0.4)\n",
      "Requirement already satisfied: tf-estimator-nightly==2.8.0.dev2021122109 in c:\\users\\z3066824\\anaconda3\\lib\\site-packages (from tensorflow) (2.8.0.dev2021122109)\n",
      "Requirement already satisfied: opt-einsum>=2.3.2 in c:\\users\\z3066824\\anaconda3\\lib\\site-packages (from tensorflow) (3.3.0)\n",
      "Requirement already satisfied: astunparse>=1.6.0 in c:\\users\\z3066824\\anaconda3\\lib\\site-packages (from tensorflow) (1.6.3)\n",
      "Requirement already satisfied: six>=1.12.0 in c:\\users\\z3066824\\anaconda3\\lib\\site-packages (from tensorflow) (1.16.0)\n",
      "Requirement already satisfied: h5py>=2.9.0 in c:\\users\\z3066824\\anaconda3\\lib\\site-packages (from tensorflow) (2.10.0)\n",
      "Requirement already satisfied: google-pasta>=0.1.1 in c:\\users\\z3066824\\anaconda3\\lib\\site-packages (from tensorflow) (0.2.0)\n",
      "Requirement already satisfied: flatbuffers>=1.12 in c:\\users\\z3066824\\anaconda3\\lib\\site-packages (from tensorflow) (2.0)\n",
      "Requirement already satisfied: keras-preprocessing>=1.1.1 in c:\\users\\z3066824\\anaconda3\\lib\\site-packages (from tensorflow) (1.1.2)\n",
      "Requirement already satisfied: termcolor>=1.1.0 in c:\\users\\z3066824\\anaconda3\\lib\\site-packages (from tensorflow) (1.1.0)\n",
      "Requirement already satisfied: wrapt>=1.11.0 in c:\\users\\z3066824\\anaconda3\\lib\\site-packages (from tensorflow) (1.12.1)\n",
      "Requirement already satisfied: protobuf>=3.9.2 in c:\\users\\z3066824\\anaconda3\\lib\\site-packages (from tensorflow) (3.19.4)\n",
      "Requirement already satisfied: gast>=0.2.1 in c:\\users\\z3066824\\anaconda3\\lib\\site-packages (from tensorflow) (0.5.3)\n",
      "Requirement already satisfied: libclang>=9.0.1 in c:\\users\\z3066824\\anaconda3\\lib\\site-packages (from tensorflow) (13.0.0)\n",
      "Requirement already satisfied: absl-py>=0.4.0 in c:\\users\\z3066824\\anaconda3\\lib\\site-packages (from tensorflow) (1.0.0)\n",
      "Requirement already satisfied: wheel<1.0,>=0.23.0 in c:\\users\\z3066824\\anaconda3\\lib\\site-packages (from astunparse>=1.6.0->tensorflow) (0.37.1)\n",
      "Requirement already satisfied: requests<3,>=2.21.0 in c:\\users\\z3066824\\anaconda3\\lib\\site-packages (from tensorboard<2.9,>=2.8->tensorflow) (2.27.1)\n",
      "Requirement already satisfied: tensorboard-data-server<0.7.0,>=0.6.0 in c:\\users\\z3066824\\anaconda3\\lib\\site-packages (from tensorboard<2.9,>=2.8->tensorflow) (0.6.1)\n",
      "Requirement already satisfied: tensorboard-plugin-wit>=1.6.0 in c:\\users\\z3066824\\anaconda3\\lib\\site-packages (from tensorboard<2.9,>=2.8->tensorflow) (1.8.1)\n",
      "Requirement already satisfied: werkzeug>=0.11.15 in c:\\users\\z3066824\\anaconda3\\lib\\site-packages (from tensorboard<2.9,>=2.8->tensorflow) (2.0.2)\n",
      "Requirement already satisfied: google-auth<3,>=1.6.3 in c:\\users\\z3066824\\anaconda3\\lib\\site-packages (from tensorboard<2.9,>=2.8->tensorflow) (2.6.0)\n",
      "Requirement already satisfied: markdown>=2.6.8 in c:\\users\\z3066824\\anaconda3\\lib\\site-packages (from tensorboard<2.9,>=2.8->tensorflow) (3.3.6)\n",
      "Requirement already satisfied: google-auth-oauthlib<0.5,>=0.4.1 in c:\\users\\z3066824\\anaconda3\\lib\\site-packages (from tensorboard<2.9,>=2.8->tensorflow) (0.4.6)\n",
      "Requirement already satisfied: pyasn1-modules>=0.2.1 in c:\\users\\z3066824\\anaconda3\\lib\\site-packages (from google-auth<3,>=1.6.3->tensorboard<2.9,>=2.8->tensorflow) (0.2.8)\n",
      "Requirement already satisfied: cachetools<6.0,>=2.0.0 in c:\\users\\z3066824\\anaconda3\\lib\\site-packages (from google-auth<3,>=1.6.3->tensorboard<2.9,>=2.8->tensorflow) (5.0.0)\n",
      "Requirement already satisfied: rsa<5,>=3.1.4 in c:\\users\\z3066824\\anaconda3\\lib\\site-packages (from google-auth<3,>=1.6.3->tensorboard<2.9,>=2.8->tensorflow) (4.8)\n",
      "Requirement already satisfied: requests-oauthlib>=0.7.0 in c:\\users\\z3066824\\anaconda3\\lib\\site-packages (from google-auth-oauthlib<0.5,>=0.4.1->tensorboard<2.9,>=2.8->tensorflow) (1.3.1)\n",
      "Requirement already satisfied: importlib-metadata>=4.4 in c:\\users\\z3066824\\anaconda3\\lib\\site-packages (from markdown>=2.6.8->tensorboard<2.9,>=2.8->tensorflow) (4.8.2)\n",
      "Requirement already satisfied: zipp>=0.5 in c:\\users\\z3066824\\anaconda3\\lib\\site-packages (from importlib-metadata>=4.4->markdown>=2.6.8->tensorboard<2.9,>=2.8->tensorflow) (3.7.0)\n",
      "Requirement already satisfied: pyasn1<0.5.0,>=0.4.6 in c:\\users\\z3066824\\anaconda3\\lib\\site-packages (from pyasn1-modules>=0.2.1->google-auth<3,>=1.6.3->tensorboard<2.9,>=2.8->tensorflow) (0.4.8)\n",
      "Requirement already satisfied: certifi>=2017.4.17 in c:\\users\\z3066824\\anaconda3\\lib\\site-packages (from requests<3,>=2.21.0->tensorboard<2.9,>=2.8->tensorflow) (2021.10.8)\n",
      "\n",
      "Requirement already satisfied: charset-normalizer~=2.0.0 in c:\\users\\z3066824\\anaconda3\\lib\\site-packages (from requests<3,>=2.21.0->tensorboard<2.9,>=2.8->tensorflow) (2.0.4)\n",
      "Requirement already satisfied: idna<4,>=2.5 in c:\\users\\z3066824\\anaconda3\\lib\\site-packages (from requests<3,>=2.21.0->tensorboard<2.9,>=2.8->tensorflow) (3.3)\n",
      "Requirement already satisfied: urllib3<1.27,>=1.21.1 in c:\\users\\z3066824\\anaconda3\\lib\\site-packages (from requests<3,>=2.21.0->tensorboard<2.9,>=2.8->tensorflow) (1.26.8)\n",
      "Requirement already satisfied: oauthlib>=3.0.0 in c:\\users\\z3066824\\anaconda3\\lib\\site-packages (from requests-oauthlib>=0.7.0->google-auth-oauthlib<0.5,>=0.4.1->tensorboard<2.9,>=2.8->tensorflow) (3.2.0)\n"
     ]
    }
   ],
   "source": [
    "pip install tensorflow"
   ]
  },
  {
   "cell_type": "code",
   "execution_count": 199,
   "id": "6cb480af",
   "metadata": {},
   "outputs": [],
   "source": [
    "import keras\n",
    "from keras.datasets import mnist\n",
    "from keras.models import Sequential\n",
    "from keras.layers import Flatten, Dense, Activation"
   ]
  },
  {
   "cell_type": "code",
   "execution_count": 209,
   "id": "afabe26f",
   "metadata": {},
   "outputs": [],
   "source": [
    "from tensorflow.keras.utils import to_categorical"
   ]
  },
  {
   "cell_type": "code",
   "execution_count": 235,
   "id": "fe30eba1",
   "metadata": {},
   "outputs": [],
   "source": [
    "from matplotlib import pyplot as plt"
   ]
  },
  {
   "cell_type": "code",
   "execution_count": 200,
   "id": "df7b3deb",
   "metadata": {},
   "outputs": [],
   "source": [
    "class PlotLosses(keras.callbacks.Callback):\n",
    "    def on_train_begin(self, logs={}):\n",
    "        self.i = 0\n",
    "        self.x = []\n",
    "        self.losses = []\n",
    "        self.val_losses = []\n",
    "        \n",
    "        self.fig = plt.figure()\n",
    "        \n",
    "        self.logs = []\n",
    "\n",
    "    def on_epoch_end(self, epoch, logs={}):\n",
    "        \n",
    "        self.logs.append(logs)\n",
    "        self.x.append(self.i)\n",
    "        self.losses.append(logs.get('loss'))\n",
    "        self.val_losses.append(logs.get('val_loss'))\n",
    "        self.i += 1\n",
    "        \n",
    "        clear_output(wait=True)\n",
    "        plt.plot(self.x, self.losses, label=\"loss\")\n",
    "        plt.plot(self.x, self.val_losses, label=\"val_loss\")\n",
    "        plt.legend()\n",
    "        plt.show();\n",
    "        \n",
    "plot_losses = PlotLosses()"
   ]
  },
  {
   "cell_type": "code",
   "execution_count": 229,
   "id": "5ed069d1",
   "metadata": {},
   "outputs": [],
   "source": [
    "X_train = np.asarray(data).astype('float32')\n",
    "X_test = np.asarray(test[:1214782]).astype('float32')\n",
    "y = np.asarray(y[:1214782]).astype('float32')"
   ]
  },
  {
   "cell_type": "code",
   "execution_count": 223,
   "id": "b4297a0c",
   "metadata": {},
   "outputs": [],
   "source": [
    "model = Sequential()\n",
    "\n",
    "model.add(Flatten(input_shape=(28, 28, 1)))\n",
    "model.add(Dense(10))\n",
    "model.add(Activation('softmax'))\n",
    "\n",
    "model.compile(optimizer='rmsprop',\n",
    "              loss='categorical_crossentropy',\n",
    "              metrics=['accuracy'])"
   ]
  },
  {
   "cell_type": "code",
   "execution_count": 232,
   "id": "5757d1b6",
   "metadata": {},
   "outputs": [],
   "source": [
    " plt.show(model)"
   ]
  },
  {
   "cell_type": "code",
   "execution_count": 234,
   "id": "bfc4a222",
   "metadata": {},
   "outputs": [
    {
     "ename": "ValueError",
     "evalue": "Failed to find data adapter that can handle input: (<class 'list'> containing values of types {\"<class 'int'>\"}), <class 'numpy.ndarray'>",
     "output_type": "error",
     "traceback": [
      "\u001b[1;31m---------------------------------------------------------------------------\u001b[0m",
      "\u001b[1;31mValueError\u001b[0m                                Traceback (most recent call last)",
      "\u001b[1;32m~\\AppData\\Local\\Temp/ipykernel_20880/1033758927.py\u001b[0m in \u001b[0;36m<module>\u001b[1;34m\u001b[0m\n\u001b[1;32m----> 1\u001b[1;33m model.fit(data, y,\n\u001b[0m\u001b[0;32m      2\u001b[0m           \u001b[0mepochs\u001b[0m\u001b[1;33m=\u001b[0m\u001b[1;36m100\u001b[0m\u001b[1;33m,\u001b[0m\u001b[1;33m\u001b[0m\u001b[1;33m\u001b[0m\u001b[0m\n\u001b[0;32m      3\u001b[0m           callbacks=[plot_losses])\n",
      "\u001b[1;32m~\\Anaconda3\\lib\\site-packages\\keras\\utils\\traceback_utils.py\u001b[0m in \u001b[0;36merror_handler\u001b[1;34m(*args, **kwargs)\u001b[0m\n\u001b[0;32m     65\u001b[0m     \u001b[1;32mexcept\u001b[0m \u001b[0mException\u001b[0m \u001b[1;32mas\u001b[0m \u001b[0me\u001b[0m\u001b[1;33m:\u001b[0m  \u001b[1;31m# pylint: disable=broad-except\u001b[0m\u001b[1;33m\u001b[0m\u001b[1;33m\u001b[0m\u001b[0m\n\u001b[0;32m     66\u001b[0m       \u001b[0mfiltered_tb\u001b[0m \u001b[1;33m=\u001b[0m \u001b[0m_process_traceback_frames\u001b[0m\u001b[1;33m(\u001b[0m\u001b[0me\u001b[0m\u001b[1;33m.\u001b[0m\u001b[0m__traceback__\u001b[0m\u001b[1;33m)\u001b[0m\u001b[1;33m\u001b[0m\u001b[1;33m\u001b[0m\u001b[0m\n\u001b[1;32m---> 67\u001b[1;33m       \u001b[1;32mraise\u001b[0m \u001b[0me\u001b[0m\u001b[1;33m.\u001b[0m\u001b[0mwith_traceback\u001b[0m\u001b[1;33m(\u001b[0m\u001b[0mfiltered_tb\u001b[0m\u001b[1;33m)\u001b[0m \u001b[1;32mfrom\u001b[0m \u001b[1;32mNone\u001b[0m\u001b[1;33m\u001b[0m\u001b[1;33m\u001b[0m\u001b[0m\n\u001b[0m\u001b[0;32m     68\u001b[0m     \u001b[1;32mfinally\u001b[0m\u001b[1;33m:\u001b[0m\u001b[1;33m\u001b[0m\u001b[1;33m\u001b[0m\u001b[0m\n\u001b[0;32m     69\u001b[0m       \u001b[1;32mdel\u001b[0m \u001b[0mfiltered_tb\u001b[0m\u001b[1;33m\u001b[0m\u001b[1;33m\u001b[0m\u001b[0m\n",
      "\u001b[1;32m~\\Anaconda3\\lib\\site-packages\\keras\\engine\\data_adapter.py\u001b[0m in \u001b[0;36mselect_data_adapter\u001b[1;34m(x, y)\u001b[0m\n\u001b[0;32m    982\u001b[0m   \u001b[1;32mif\u001b[0m \u001b[1;32mnot\u001b[0m \u001b[0madapter_cls\u001b[0m\u001b[1;33m:\u001b[0m\u001b[1;33m\u001b[0m\u001b[1;33m\u001b[0m\u001b[0m\n\u001b[0;32m    983\u001b[0m     \u001b[1;31m# TODO(scottzhu): This should be a less implementation-specific error.\u001b[0m\u001b[1;33m\u001b[0m\u001b[1;33m\u001b[0m\u001b[1;33m\u001b[0m\u001b[0m\n\u001b[1;32m--> 984\u001b[1;33m     raise ValueError(\n\u001b[0m\u001b[0;32m    985\u001b[0m         \u001b[1;34m\"Failed to find data adapter that can handle \"\u001b[0m\u001b[1;33m\u001b[0m\u001b[1;33m\u001b[0m\u001b[0m\n\u001b[0;32m    986\u001b[0m         \"input: {}, {}\".format(\n",
      "\u001b[1;31mValueError\u001b[0m: Failed to find data adapter that can handle input: (<class 'list'> containing values of types {\"<class 'int'>\"}), <class 'numpy.ndarray'>"
     ]
    }
   ],
   "source": [
    "model.fit(data, y,\n",
    "          epochs=100,\n",
    "          callbacks=[plot_losses])"
   ]
  },
  {
   "cell_type": "markdown",
   "id": "827c3eb1",
   "metadata": {},
   "source": [
    "Plot average loss"
   ]
  },
  {
   "cell_type": "code",
   "execution_count": 155,
   "id": "cc64968b",
   "metadata": {},
   "outputs": [
    {
     "ename": "AttributeError",
     "evalue": "'Beers' object has no attribute 'average_loss'",
     "output_type": "error",
     "traceback": [
      "\u001b[1;31m---------------------------------------------------------------------------\u001b[0m",
      "\u001b[1;31mAttributeError\u001b[0m                            Traceback (most recent call last)",
      "\u001b[1;32m~\\AppData\\Local\\Temp/ipykernel_20880/3749574074.py\u001b[0m in \u001b[0;36m<module>\u001b[1;34m\u001b[0m\n\u001b[1;32m----> 1\u001b[1;33m \u001b[0mloss_plot\u001b[0m \u001b[1;33m=\u001b[0m \u001b[0mpd\u001b[0m\u001b[1;33m.\u001b[0m\u001b[0mDataFrame\u001b[0m\u001b[1;33m(\u001b[0m\u001b[0mmodel\u001b[0m\u001b[1;33m.\u001b[0m\u001b[0maverage_loss\u001b[0m\u001b[1;33m)\u001b[0m\u001b[1;33m\u001b[0m\u001b[1;33m\u001b[0m\u001b[0m\n\u001b[0m\u001b[0;32m      2\u001b[0m \u001b[0mloss_plot\u001b[0m\u001b[1;33m.\u001b[0m\u001b[0mplot\u001b[0m\u001b[1;33m(\u001b[0m\u001b[1;33m)\u001b[0m\u001b[1;33m\u001b[0m\u001b[1;33m\u001b[0m\u001b[0m\n",
      "\u001b[1;32m~\\Anaconda3\\lib\\site-packages\\torch\\nn\\modules\\module.py\u001b[0m in \u001b[0;36m__getattr__\u001b[1;34m(self, name)\u001b[0m\n\u001b[0;32m   1175\u001b[0m             \u001b[1;32mif\u001b[0m \u001b[0mname\u001b[0m \u001b[1;32min\u001b[0m \u001b[0mmodules\u001b[0m\u001b[1;33m:\u001b[0m\u001b[1;33m\u001b[0m\u001b[1;33m\u001b[0m\u001b[0m\n\u001b[0;32m   1176\u001b[0m                 \u001b[1;32mreturn\u001b[0m \u001b[0mmodules\u001b[0m\u001b[1;33m[\u001b[0m\u001b[0mname\u001b[0m\u001b[1;33m]\u001b[0m\u001b[1;33m\u001b[0m\u001b[1;33m\u001b[0m\u001b[0m\n\u001b[1;32m-> 1177\u001b[1;33m         raise AttributeError(\"'{}' object has no attribute '{}'\".format(\n\u001b[0m\u001b[0;32m   1178\u001b[0m             type(self).__name__, name))\n\u001b[0;32m   1179\u001b[0m \u001b[1;33m\u001b[0m\u001b[0m\n",
      "\u001b[1;31mAttributeError\u001b[0m: 'Beers' object has no attribute 'average_loss'"
     ]
    }
   ],
   "source": [
    "loss_plot = pd.DataFrame(model.average_loss)\n",
    "loss_plot.plot()"
   ]
  },
  {
   "cell_type": "markdown",
   "id": "10c57261",
   "metadata": {},
   "source": [
    "Push model to github"
   ]
  },
  {
   "cell_type": "code",
   "execution_count": 237,
   "id": "44bc6a14",
   "metadata": {},
   "outputs": [],
   "source": [
    "#In VS code:\n",
    "#git add .\n",
    "#git commit -m \"pytorch Assignment2\"\n",
    "#git push --set-upstream origin gmm_pipeline\n",
    "#git pull\n",
    "#git checkout pytorch_Assignment2"
   ]
  },
  {
   "cell_type": "code",
   "execution_count": null,
   "id": "3135a8b4",
   "metadata": {},
   "outputs": [],
   "source": []
  }
 ],
 "metadata": {
  "kernelspec": {
   "display_name": "Python 3 (ipykernel)",
   "language": "python",
   "name": "python3"
  },
  "language_info": {
   "codemirror_mode": {
    "name": "ipython",
    "version": 3
   },
   "file_extension": ".py",
   "mimetype": "text/x-python",
   "name": "python",
   "nbconvert_exporter": "python",
   "pygments_lexer": "ipython3",
   "version": "3.8.12"
  }
 },
 "nbformat": 4,
 "nbformat_minor": 5
}
